{
  "nbformat": 4,
  "nbformat_minor": 0,
  "metadata": {
    "colab": {
      "name": "Calculator.ipynb",
      "provenance": [],
      "collapsed_sections": [],
      "include_colab_link": true
    },
    "kernelspec": {
      "name": "python3",
      "display_name": "Python 3"
    }
  },
  "cells": [
    {
      "cell_type": "markdown",
      "metadata": {
        "id": "view-in-github",
        "colab_type": "text"
      },
      "source": [
        "<a href=\"https://colab.research.google.com/github/Marc-Elie210/My_Basic_Python/blob/master/Calculator.ipynb\" target=\"_parent\"><img src=\"https://colab.research.google.com/assets/colab-badge.svg\" alt=\"Open In Colab\"/></a>"
      ]
    },
    {
      "cell_type": "code",
      "metadata": {
        "id": "yy4cDRusVugv"
      },
      "source": [
        "\"\"\" This is a simple calculator that adds, subtracts, divides, and multiplies 2 numbers. \"\"\"\r\n",
        "#Karen Britt - Ace Kang - Adrian Garcia - Marc-Elie - Alejandro Mendez"
      ],
      "execution_count": null,
      "outputs": []
    },
    {
      "cell_type": "code",
      "metadata": {
        "id": "hWCfanoMWeo7"
      },
      "source": [
        "# a function that adds two numbers \n",
        "def add(num1, num2):\n",
        "  result = num1 + num2\n",
        "  print(str(result))\n",
        "  \n",
        "# a function that subtracts two numbers\n",
        "def subtract(num1, num2):\n",
        "  result = num1 - num2\n",
        "  print(str(result))\n",
        "\n",
        "# a function that multiplies two numbers\n",
        "def multiply(num1, num2):\n",
        "  result = num1 * num2\n",
        "  print(str(result))\n",
        "\n",
        "# a function that divides two numbers\n",
        "def divide(num1, num2):\n",
        "  print(str(num1/num2))"
      ],
      "execution_count": null,
      "outputs": []
    },
    {
      "cell_type": "code",
      "metadata": {
        "id": "5bbVf8LmcFpY"
      },
      "source": [
        "statusCalculator = True\r\n",
        "calculatorFunctions = [\"multiplication\", \"division\", \"subtraction\", \"adding\"] #List of all the function in the calculator\r\n",
        "print(\"The calculator has the following functions: \")\r\n",
        "for function in calculatorFunctions: #Goes through the list of calculatorFunctions\r\n",
        "  print(function) #Print all the function in the calculator\r\n",
        "while(statusCalculator): #If the user types stop, the calculator stopss working\r\n",
        "  userInput = input(\"Please type the function that you want to use: \") #Ask the user what function he wants to use\r\n",
        "  if userInput.lower() in calculatorFunctions: #Goes through the list to see if the function typed by the user is in the list\r\n",
        "    x = int(input(\"Please type the first number: \"))\r\n",
        "    y = int(input(\"Please type the second number: \"))\r\n",
        "    if userInput.lower() == \"multiplication\": #Calls the required function depending on the user input\r\n",
        "      multiply(x,y)\r\n",
        "    elif userInput.lower() == \"adding\":\r\n",
        "      add(x,y)\r\n",
        "    elif userInput.lower() == \"subtraction\":\r\n",
        "      substract(x,y)\r\n",
        "    elif userInput.lower() == \"division\":\r\n",
        "      divide(x,y)\r\n",
        "    userInput2 = input(\"If you are done with the calculator, please type stop. If you want to keep using it, type any letter \")\r\n",
        "    if userInput2.lower() == \"stop\": #If the user types stop, the calculator will stop\r\n",
        "      break\r\n",
        "  else:\r\n",
        "    print(\"The function is not recognized, please type it again\") #If the function is not recognized in the list of functions, it will ask to type it again\r\n",
        "print(\"Thank you for using our calculator.\")\r\n"
      ],
      "execution_count": null,
      "outputs": []
    }
  ]
}