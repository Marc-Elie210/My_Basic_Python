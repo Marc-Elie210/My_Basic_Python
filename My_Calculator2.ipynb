{
  "nbformat": 4,
  "nbformat_minor": 0,
  "metadata": {
    "colab": {
      "name": "My_Calculator2.ipynb",
      "provenance": [],
      "collapsed_sections": [],
      "authorship_tag": "ABX9TyMPE8J0dYvieIWLiOoQe4Et",
      "include_colab_link": true
    },
    "kernelspec": {
      "name": "python3",
      "display_name": "Python 3"
    }
  },
  "cells": [
    {
      "cell_type": "markdown",
      "metadata": {
        "id": "view-in-github",
        "colab_type": "text"
      },
      "source": [
        "<a href=\"https://colab.research.google.com/github/Marc-Elie210/My_Basic_Python/blob/master/My_Calculator2.ipynb\" target=\"_parent\"><img src=\"https://colab.research.google.com/assets/colab-badge.svg\" alt=\"Open In Colab\"/></a>"
      ]
    },
    {
      "cell_type": "code",
      "metadata": {
        "id": "dxELKY2G8kDW"
      },
      "source": [
        "def add(n):\r\n",
        "  \"\"\" This Function add a list of numbers \"\"\"\r\n",
        "  # I created an accumulator variable to keep track of the running total and set it to 0\r\n",
        "  total = 0\r\n",
        "  for x in n: # x will iterate through the list n \r\n",
        "    total += x # This line is calculating the new total by adding it to itself and storing it as the new total (+=) is the same as total = total + x\r\n",
        "  return total \r\n",
        "\r\n",
        "def subtract(n):\r\n",
        "  \"\"\" This Function subtracts a list of numbers \"\"\"\r\n",
        "  # I created an accumulator variable to keep track of the running total by using the index 0 of the list\r\n",
        "  # Then I multiplied it by 2 to have the total be equal to 2n - n\r\n",
        "  # This will only work for positive numbers as of now  \r\n",
        "  total = n[0] * 2\r\n",
        "  for x in n:\r\n",
        "    total -= x \r\n",
        "  return total\r\n",
        "\r\n",
        "def multiply(n):\r\n",
        "  \"\"\" This Function multiplies a list of numbers \"\"\"\r\n",
        "  # I created an accumulator variable to keep track of the running total by having it equal to 1 \r\n",
        "  # This will set the first total to n * 1 = n\r\n",
        "  total = 1\r\n",
        "  for x in n:\r\n",
        "    total *= x\r\n",
        "    return total\r\n",
        "\r\n",
        "  \r\n",
        "def divide(n):\r\n",
        "  \"\"\" This Function divides a list of numbers \"\"\"\r\n",
        "  # I created an accumulator variable to keep track of the running total by having the index of 0 squared \r\n",
        "  # This will only work for positive numbers as of now \r\n",
        "  total = n[0]**2\r\n",
        "  for x in n:\r\n",
        "    total /= x\r\n",
        "  return total  \r\n",
        "\r\n",
        "def user_numbers():\r\n",
        "  \"\"\" This function ask a user to enter a number or numbers and stores it in a list n \"\"\"\r\n",
        "  n = []  # creating an empty list to store the user numbers\r\n",
        "  how_many = int(input('please enter how many number you would like to calculate: ')) # creating a variable to be used for the while loop\r\n",
        "  while how_many != 0: # This line of code allows me to continue my loop as long as the how_many variable is not equal to 0\r\n",
        "    my_num = int(input('Please enter your numbers in the order of calculation: '))\r\n",
        "    n.append(my_num) # The numbers will be added to the list in the order the user entered \r\n",
        "    how_many -= 1 # This will keep subtracting by 1 until how_many == 0 and the while loop condition is no longer met. \r\n",
        "  return n\r\n",
        "\r\n",
        "\r\n",
        "\r\n"
      ],
      "execution_count": 35,
      "outputs": []
    },
    {
      "cell_type": "code",
      "metadata": {
        "colab": {
          "base_uri": "https://localhost:8080/"
        },
        "id": "Lki51mfG8oL2",
        "outputId": "ce8708e4-1058-48d9-9115-f49f96178ba5"
      },
      "source": [
        "\r\n",
        "statusCalculator = True\r\n",
        "calculatorFunctions = [\"multiplication\", \"division\", \"subtraction\", \"adding\"] #List of all the function in the calculator\r\n",
        "print(\"The calculator has the following functions: \")\r\n",
        "for function in calculatorFunctions: #Goes through the list of calculatorFunctions\r\n",
        "  print(function) #Print all the function in the calculator\r\n",
        "while (statusCalculator): #If the user types stop, the calculator stopss working\r\n",
        "  userInput = input(\"Please type the function that you want to use: \") #Ask the user what function he wants to use\r\n",
        "  if userInput.lower() in calculatorFunctions: #Goes through the list to see if the function typed by the user is in the list\r\n",
        "    user_num = user_numbers() # calls the function and stores the users list of numbers in the new variable \r\n",
        "    if userInput.lower() == \"multiplication\": #Calls the required function depending on the user input\r\n",
        "      answer = multiply(user_num) # calling the multiply function by passing the argument user_num \r\n",
        "      print(answer)\r\n",
        "    elif userInput.lower() == \"adding\":\r\n",
        "      answer = add(user_num)\r\n",
        "      print(answer)\r\n",
        "    elif userInput.lower() == \"subtraction\":\r\n",
        "      answer = subtract(user_num)\r\n",
        "      print(answer)\r\n",
        "    elif userInput.lower() == \"division\":\r\n",
        "      answer = divide(user_num)\r\n",
        "      print(answer)\r\n",
        "    userInput2 = input(\"If you are done with the calculator, please type stop. If you want to keep using it, type any letter \")\r\n",
        "    if userInput2.lower() == \"stop\": #If the user types stop, the calculator will stop\r\n",
        "      break\r\n",
        "  else:\r\n",
        "    print(\"The function is not recognized, please type it again\") #If the function is not recognized in the list of functions, it will ask to type it again\r\n",
        "print(\"Thank you for using our calculator.\")"
      ],
      "execution_count": 37,
      "outputs": [
        {
          "output_type": "stream",
          "text": [
            "The calculator has the following functions: \n",
            "multiplication\n",
            "division\n",
            "subtraction\n",
            "adding\n",
            "Please type the function that you want to use: subtracting\n",
            "The function is not recognized, please type it again\n",
            "Please type the function that you want to use: 2\n",
            "The function is not recognized, please type it again\n",
            "Please type the function that you want to use: subtraction\n",
            "please enter how many number you would like to calculate: 2\n",
            "Please enter your numbers in the order of calculation: -20\n",
            "Please enter your numbers in the order of calculation: 2\n",
            "-22\n",
            "If you are done with the calculator, please type stop. If you want to keep using it, type any letter y\n",
            "Please type the function that you want to use: division\n",
            "please enter how many number you would like to calculate: 2\n",
            "Please enter your numbers in the order of calculation: -20\n",
            "Please enter your numbers in the order of calculation: 2\n",
            "-10.0\n",
            "If you are done with the calculator, please type stop. If you want to keep using it, type any letter stop\n",
            "Thank you for using our calculator.\n"
          ],
          "name": "stdout"
        }
      ]
    },
    {
      "cell_type": "code",
      "metadata": {
        "id": "GdV_gkmB-vnU"
      },
      "source": [
        ""
      ],
      "execution_count": null,
      "outputs": []
    }
  ]
}