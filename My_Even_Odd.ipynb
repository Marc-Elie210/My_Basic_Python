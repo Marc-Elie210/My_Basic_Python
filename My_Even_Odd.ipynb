{
  "nbformat": 4,
  "nbformat_minor": 0,
  "metadata": {
    "colab": {
      "name": "My_Even_Odd.ipynb",
      "provenance": [],
      "authorship_tag": "ABX9TyNDnKDQ+IJVJ410DM7CtTdh",
      "include_colab_link": true
    },
    "kernelspec": {
      "name": "python3",
      "display_name": "Python 3"
    }
  },
  "cells": [
    {
      "cell_type": "markdown",
      "metadata": {
        "id": "view-in-github",
        "colab_type": "text"
      },
      "source": [
        "<a href=\"https://colab.research.google.com/github/Marc-Elie210/My_Basic_Python/blob/master/My_Even_Odd.ipynb\" target=\"_parent\"><img src=\"https://colab.research.google.com/assets/colab-badge.svg\" alt=\"Open In Colab\"/></a>"
      ]
    },
    {
      "cell_type": "markdown",
      "metadata": {
        "id": "Ql1qwzp17FWu"
      },
      "source": [
        ""
      ]
    },
    {
      "cell_type": "code",
      "metadata": {
        "id": "VIE5u1sQ2uRB"
      },
      "source": [
        "def multiple4(num):\r\n",
        "  \"\"\" This function checks for a multiple of 4 \"\"\"\r\n",
        "  if num%4 == 0: # I am checking to see if the entered number divides evenly by 4\r\n",
        "    return (f'{num} is a multiple of 4')\r\n",
        "  else:\r\n",
        "    return (f'{num} is not a multiple of 4')\r\n"
      ],
      "execution_count": 14,
      "outputs": []
    },
    {
      "cell_type": "code",
      "metadata": {
        "id": "xINvT0jM2SSi"
      },
      "source": [
        "def EvenOdd(num):\r\n",
        "  \"\"\" This function checks if the entered number is even or odd \"\"\"\r\n",
        "  if num%2 != 0: # I am checking to see if the entered number divides evenly by 2\r\n",
        "    Answer = (f\"{num} is Odd\")\r\n",
        "  else:\r\n",
        "    Answer = (f'{num} is Even')\r\n",
        "  return Answer "
      ],
      "execution_count": 15,
      "outputs": []
    },
    {
      "cell_type": "code",
      "metadata": {
        "id": "X3lJtIbh2W5x"
      },
      "source": [
        "def divide(num, check):\r\n",
        "  \"\"\" This number divides two numbers and let you know if the numbers divide evenly \"\"\"\r\n",
        "  x = num%check # I am checking to see if the entered number num divides evenly by the second entered number check\r\n",
        "  if x == 0:\r\n",
        "    Answer = (f'The number {num} divided evenly by {check}')\r\n",
        "  else:\r\n",
        "        Answer = (f'The number {num} does not divide evenly by {check}')\r\n",
        "  return Answer"
      ],
      "execution_count": 16,
      "outputs": []
    },
    {
      "cell_type": "code",
      "metadata": {
        "colab": {
          "base_uri": "https://localhost:8080/"
        },
        "id": "dIMKSMS969_W",
        "outputId": "8ab324eb-cbd4-4d6e-f39f-3757895edf29"
      },
      "source": [
        "# Asking the user for the two inputs and then calling and printing the functions \r\n",
        "\r\n",
        "num = int(input('Please enter a number: '))\r\n",
        "check = int(input('Please enter the second number: '))\r\n",
        "\r\n",
        "print(EvenOdd(num))\r\n",
        "print()\r\n",
        "print(multiple4(num))\r\n",
        "print()\r\n",
        "print(divide(num,check))\r\n",
        "\r\n",
        "\r\n",
        "\r\n"
      ],
      "execution_count": 17,
      "outputs": [
        {
          "output_type": "stream",
          "text": [
            "Please enter a number: 6\n",
            "Please enter the second number: 8\n",
            "6 is Even\n",
            "\n",
            "6 is not a multiple of 4\n",
            "\n",
            "The number 6 does not divide evenly by 8\n"
          ],
          "name": "stdout"
        }
      ]
    },
    {
      "cell_type": "code",
      "metadata": {
        "colab": {
          "base_uri": "https://localhost:8080/",
          "height": 35
        },
        "id": "fQiRJxkW7T01",
        "outputId": "78a14379-1350-4233-a79e-4b341a35c35a"
      },
      "source": [
        ""
      ],
      "execution_count": 12,
      "outputs": [
        {
          "output_type": "execute_result",
          "data": {
            "application/vnd.google.colaboratory.intrinsic+json": {
              "type": "string"
            },
            "text/plain": [
              "'The number 8 divides evenly by 4'"
            ]
          },
          "metadata": {
            "tags": []
          },
          "execution_count": 12
        }
      ]
    },
    {
      "cell_type": "code",
      "metadata": {
        "id": "MOCIk9iY7ZJY"
      },
      "source": [
        ""
      ],
      "execution_count": null,
      "outputs": []
    }
  ]
}