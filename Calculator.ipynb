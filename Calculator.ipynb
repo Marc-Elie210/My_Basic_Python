{
  "nbformat": 4,
  "nbformat_minor": 0,
  "metadata": {
    "colab": {
      "name": "Calculator.ipynb",
      "provenance": [],
      "collapsed_sections": [],
      "include_colab_link": true
    },
    "kernelspec": {
      "name": "python3",
      "display_name": "Python 3"
    }
  },
  "cells": [
    {
      "cell_type": "markdown",
      "metadata": {
        "id": "view-in-github",
        "colab_type": "text"
      },
      "source": [
        "<a href=\"https://colab.research.google.com/github/Marc-Elie210/My_Basic_Python/blob/master/Calculator.ipynb\" target=\"_parent\"><img src=\"https://colab.research.google.com/assets/colab-badge.svg\" alt=\"Open In Colab\"/></a>"
      ]
    },
    {
      "cell_type": "code",
      "metadata": {
        "id": "yy4cDRusVugv",
        "colab": {
          "base_uri": "https://localhost:8080/",
          "height": 35
        },
        "outputId": "ba4f5c25-1446-4a05-9ab3-8d178ab6acfd"
      },
      "source": [
        "\"\"\" This is a simple calculator that adds, subtracts, divides, and multiplies 2 numbers. \"\"\"\r\n",
        "#Karen Britt - Ace Kang - Adrian Garcia - Marc-Elie - Alejandro Mendez"
      ],
      "execution_count": 1,
      "outputs": [
        {
          "output_type": "execute_result",
          "data": {
            "application/vnd.google.colaboratory.intrinsic+json": {
              "type": "string"
            },
            "text/plain": [
              "' This is a simple calculator that adds, subtracts, divides, and multiplies 2 numbers. '"
            ]
          },
          "metadata": {
            "tags": []
          },
          "execution_count": 1
        }
      ]
    },
    {
      "cell_type": "code",
      "metadata": {
        "id": "hWCfanoMWeo7"
      },
      "source": [
        "# a function that adds two numbers \n",
        "def add(num1, num2):\n",
        "  sum = num1 + num2\n",
        "  print(str(sum))\n",
        "  \n",
        "# a function that subtracts two numbers\n",
        "def subtract(num1, num2):\n",
        "  sum = num1 - num2\n",
        "  print(str(sum))\n",
        "\n",
        "# a function that multiplies two numbers\n",
        "def multiply(num1, num2):\n",
        "  sum = num1 * num2\n",
        "  print(str(sum))\n",
        "\n",
        "# a function that divides two numbers\n",
        "def divide(num1, num2):\n",
        "  sum = num1 / num2\n",
        "  print(str(sum))"
      ],
      "execution_count": 2,
      "outputs": []
    },
    {
      "cell_type": "code",
      "metadata": {
        "id": "5bbVf8LmcFpY",
        "colab": {
          "base_uri": "https://localhost:8080/"
        },
        "outputId": "97669ede-40c5-4fc2-985d-eca9ef8f340a"
      },
      "source": [
        "statusCalculator = True\r\n",
        "calculatorFunctions = [\"multiplication\", \"division\", \"subtraction\", \"adding\"] #List of all the function in the calculator\r\n",
        "print(\"The calculator has the following functions: \")\r\n",
        "for function in calculatorFunctions: #Goes through the list of calculatorFunctions\r\n",
        "  print(function) #Print all the function in the calculator\r\n",
        "while(statusCalculator): #If the user types stop, the calculator stopss working\r\n",
        "  userInput = input(\"Please type the function that you want to use: \") #Ask the user what function he wants to use\r\n",
        "  if userInput.lower() in calculatorFunctions: #Goes through the list to see if the function typed by the user is in the list\r\n",
        "    x = int(input(\"Please type the first number: \"))\r\n",
        "    y = int(input(\"Please type the second number: \"))\r\n",
        "    if userInput.lower() == \"multiplication\": #Calls the required function depending on the user input\r\n",
        "      multiply(x,y)\r\n",
        "    elif userInput.lower() == \"adding\":\r\n",
        "      add(x,y)\r\n",
        "    elif userInput.lower() == \"subtraction\":\r\n",
        "      substract(x,y)\r\n",
        "    elif userInput.lower() == \"division\":\r\n",
        "      divide(x,y)\r\n",
        "    userInput2 = input(\"If you are done with the calculator, please type stop. If you want to keep using it, type any letter \")\r\n",
        "    if userInput2.lower() == \"stop\": #If the user types stop, the calculator will stop\r\n",
        "      break\r\n",
        "  else:\r\n",
        "    print(\"The function is not recognized, please type it again\") #If the function is not recognized in the list of functions, it will ask to type it again\r\n",
        "print(\"Thank you for using our calculator.\")\r\n"
      ],
      "execution_count": 3,
      "outputs": [
        {
          "output_type": "stream",
          "text": [
            "The calculator has the following functions: \n",
            "multiplication\n",
            "division\n",
            "subtraction\n",
            "adding\n",
            "Please type the function that you want to use: adding\n",
            "Please type the first number: 2\n",
            "Please type the second number: 2\n",
            "4\n",
            "If you are done with the calculator, please type stop. If you want to keep using it, type any letter stop\n",
            "Thank you for using our calculator.\n"
          ],
          "name": "stdout"
        }
      ]
    },
    {
      "cell_type": "code",
      "metadata": {
        "id": "K6RzvT2ZwxgY"
      },
      "source": [
        ""
      ],
      "execution_count": null,
      "outputs": []
    }
  ]
}