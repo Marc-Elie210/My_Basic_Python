{
  "nbformat": 4,
  "nbformat_minor": 0,
  "metadata": {
    "colab": {
      "name": "My_COVID-19 Analysis.ipynb",
      "provenance": [],
      "collapsed_sections": [],
      "authorship_tag": "ABX9TyOZNsM0teD7w3AFspJXp+37",
      "include_colab_link": true
    },
    "kernelspec": {
      "name": "python3",
      "display_name": "Python 3"
    }
  },
  "cells": [
    {
      "cell_type": "markdown",
      "metadata": {
        "id": "view-in-github",
        "colab_type": "text"
      },
      "source": [
        "<a href=\"https://colab.research.google.com/github/Marc-Elie210/My_Basic_Python/blob/master/My_COVID_19_Analysis.ipynb\" target=\"_parent\"><img src=\"https://colab.research.google.com/assets/colab-badge.svg\" alt=\"Open In Colab\"/></a>"
      ]
    },
    {
      "cell_type": "markdown",
      "metadata": {
        "id": "4O30DkH3iwOt"
      },
      "source": [
        "#By: Marc-Elie Cheriza"
      ]
    },
    {
      "cell_type": "markdown",
      "metadata": {
        "id": "eMopUCCxijJ6"
      },
      "source": [
        "#Objective: \r\n",
        "* Ingest data from the latest New York Times' county-level COVID-19 database at https://github.com/nytimes/covid-19-data/blob/master/us-counties.csv\r\n",
        "* Filter the data for a chosen county in a chosen state\r\n",
        "* Calculate the daily count of new cases and new deaths\r\n",
        "* Print the most recent 30 days' worth of data for the selected county. \r\n",
        "* Perform EDA and show your findings through different plots and visualization techniques.\r\n"
      ]
    },
    {
      "cell_type": "markdown",
      "metadata": {
        "id": "ScFbChrkVXjt"
      },
      "source": [
        "#Importing the libraries I’ll be using for this analysis."
      ]
    },
    {
      "cell_type": "code",
      "metadata": {
        "id": "R7RzcMrpWyv0"
      },
      "source": [
        "import pandas as pd\r\n",
        "import numpy as np\r\n",
        "import seaborn as sns\r\n",
        "import matplotlib.pyplot as plt\r\n",
        "%matplotlib inline\r\n",
        "sns.set(style='whitegrid', palette='muted', font_scale=1.5)\r\n",
        "plt.figsize=(16, 6)\r\n"
      ],
      "execution_count": 152,
      "outputs": []
    },
    {
      "cell_type": "markdown",
      "metadata": {
        "id": "cBGOBZS_lReh"
      },
      "source": [
        "#Importing the data and replacing any missing values with NaN\r\n",
        "\r\n",
        "\r\n",
        "\r\n"
      ]
    },
    {
      "cell_type": "code",
      "metadata": {
        "id": "zL_TJBXie9tl"
      },
      "source": [
        "missing_values = ['NA','n/a','na','--','-'] # creating a list of possible missing values\r\n",
        "covid_data = pd.read_csv('https://raw.githubusercontent.com/nytimes/covid-19-data/master/us-counties.csv', na_values = missing_values) # loading in the data and passing the params, \r\n",
        "                                                                                                                                        #turn all the values into NaN that are in the list"
      ],
      "execution_count": 153,
      "outputs": []
    },
    {
      "cell_type": "markdown",
      "metadata": {
        "id": "wi0lZOd4wpiz"
      },
      "source": [
        "#I want to see what information my data contains\r\n"
      ]
    },
    {
      "cell_type": "code",
      "metadata": {
        "colab": {
          "base_uri": "https://localhost:8080/"
        },
        "id": "bl_xsF2RJu0_",
        "outputId": "b06288b9-8606-4cc6-bb47-b4f3da76fc04"
      },
      "source": [
        "covid_data.info()"
      ],
      "execution_count": 154,
      "outputs": [
        {
          "output_type": "stream",
          "text": [
            "<class 'pandas.core.frame.DataFrame'>\n",
            "RangeIndex: 952971 entries, 0 to 952970\n",
            "Data columns (total 6 columns):\n",
            " #   Column  Non-Null Count   Dtype  \n",
            "---  ------  --------------   -----  \n",
            " 0   date    952971 non-null  object \n",
            " 1   county  952971 non-null  object \n",
            " 2   state   952971 non-null  object \n",
            " 3   fips    944088 non-null  float64\n",
            " 4   cases   952971 non-null  int64  \n",
            " 5   deaths  932572 non-null  float64\n",
            "dtypes: float64(2), int64(1), object(3)\n",
            "memory usage: 43.6+ MB\n"
          ],
          "name": "stdout"
        }
      ]
    },
    {
      "cell_type": "code",
      "metadata": {
        "colab": {
          "base_uri": "https://localhost:8080/",
          "height": 357
        },
        "id": "i4wvY94Rf11S",
        "outputId": "a2b4cefe-fb71-44a5-cd11-7d3556fe9cd8"
      },
      "source": [
        "covid_data.head(10)"
      ],
      "execution_count": 155,
      "outputs": [
        {
          "output_type": "execute_result",
          "data": {
            "text/html": [
              "<div>\n",
              "<style scoped>\n",
              "    .dataframe tbody tr th:only-of-type {\n",
              "        vertical-align: middle;\n",
              "    }\n",
              "\n",
              "    .dataframe tbody tr th {\n",
              "        vertical-align: top;\n",
              "    }\n",
              "\n",
              "    .dataframe thead th {\n",
              "        text-align: right;\n",
              "    }\n",
              "</style>\n",
              "<table border=\"1\" class=\"dataframe\">\n",
              "  <thead>\n",
              "    <tr style=\"text-align: right;\">\n",
              "      <th></th>\n",
              "      <th>date</th>\n",
              "      <th>county</th>\n",
              "      <th>state</th>\n",
              "      <th>fips</th>\n",
              "      <th>cases</th>\n",
              "      <th>deaths</th>\n",
              "    </tr>\n",
              "  </thead>\n",
              "  <tbody>\n",
              "    <tr>\n",
              "      <th>0</th>\n",
              "      <td>2020-01-21</td>\n",
              "      <td>Snohomish</td>\n",
              "      <td>Washington</td>\n",
              "      <td>53061.0</td>\n",
              "      <td>1</td>\n",
              "      <td>0.0</td>\n",
              "    </tr>\n",
              "    <tr>\n",
              "      <th>1</th>\n",
              "      <td>2020-01-22</td>\n",
              "      <td>Snohomish</td>\n",
              "      <td>Washington</td>\n",
              "      <td>53061.0</td>\n",
              "      <td>1</td>\n",
              "      <td>0.0</td>\n",
              "    </tr>\n",
              "    <tr>\n",
              "      <th>2</th>\n",
              "      <td>2020-01-23</td>\n",
              "      <td>Snohomish</td>\n",
              "      <td>Washington</td>\n",
              "      <td>53061.0</td>\n",
              "      <td>1</td>\n",
              "      <td>0.0</td>\n",
              "    </tr>\n",
              "    <tr>\n",
              "      <th>3</th>\n",
              "      <td>2020-01-24</td>\n",
              "      <td>Cook</td>\n",
              "      <td>Illinois</td>\n",
              "      <td>17031.0</td>\n",
              "      <td>1</td>\n",
              "      <td>0.0</td>\n",
              "    </tr>\n",
              "    <tr>\n",
              "      <th>4</th>\n",
              "      <td>2020-01-24</td>\n",
              "      <td>Snohomish</td>\n",
              "      <td>Washington</td>\n",
              "      <td>53061.0</td>\n",
              "      <td>1</td>\n",
              "      <td>0.0</td>\n",
              "    </tr>\n",
              "    <tr>\n",
              "      <th>5</th>\n",
              "      <td>2020-01-25</td>\n",
              "      <td>Orange</td>\n",
              "      <td>California</td>\n",
              "      <td>6059.0</td>\n",
              "      <td>1</td>\n",
              "      <td>0.0</td>\n",
              "    </tr>\n",
              "    <tr>\n",
              "      <th>6</th>\n",
              "      <td>2020-01-25</td>\n",
              "      <td>Cook</td>\n",
              "      <td>Illinois</td>\n",
              "      <td>17031.0</td>\n",
              "      <td>1</td>\n",
              "      <td>0.0</td>\n",
              "    </tr>\n",
              "    <tr>\n",
              "      <th>7</th>\n",
              "      <td>2020-01-25</td>\n",
              "      <td>Snohomish</td>\n",
              "      <td>Washington</td>\n",
              "      <td>53061.0</td>\n",
              "      <td>1</td>\n",
              "      <td>0.0</td>\n",
              "    </tr>\n",
              "    <tr>\n",
              "      <th>8</th>\n",
              "      <td>2020-01-26</td>\n",
              "      <td>Maricopa</td>\n",
              "      <td>Arizona</td>\n",
              "      <td>4013.0</td>\n",
              "      <td>1</td>\n",
              "      <td>0.0</td>\n",
              "    </tr>\n",
              "    <tr>\n",
              "      <th>9</th>\n",
              "      <td>2020-01-26</td>\n",
              "      <td>Los Angeles</td>\n",
              "      <td>California</td>\n",
              "      <td>6037.0</td>\n",
              "      <td>1</td>\n",
              "      <td>0.0</td>\n",
              "    </tr>\n",
              "  </tbody>\n",
              "</table>\n",
              "</div>"
            ],
            "text/plain": [
              "         date       county       state     fips  cases  deaths\n",
              "0  2020-01-21    Snohomish  Washington  53061.0      1     0.0\n",
              "1  2020-01-22    Snohomish  Washington  53061.0      1     0.0\n",
              "2  2020-01-23    Snohomish  Washington  53061.0      1     0.0\n",
              "3  2020-01-24         Cook    Illinois  17031.0      1     0.0\n",
              "4  2020-01-24    Snohomish  Washington  53061.0      1     0.0\n",
              "5  2020-01-25       Orange  California   6059.0      1     0.0\n",
              "6  2020-01-25         Cook    Illinois  17031.0      1     0.0\n",
              "7  2020-01-25    Snohomish  Washington  53061.0      1     0.0\n",
              "8  2020-01-26     Maricopa     Arizona   4013.0      1     0.0\n",
              "9  2020-01-26  Los Angeles  California   6037.0      1     0.0"
            ]
          },
          "metadata": {
            "tags": []
          },
          "execution_count": 155
        }
      ]
    },
    {
      "cell_type": "markdown",
      "metadata": {
        "id": "pRkjAN23XYx2"
      },
      "source": [
        "#Our Data contains: \r\n",
        "* Date: Tells us the day of reporting (string) \r\n",
        "* County: The counties within states (string)\r\n",
        "* State: The USA States (string)\r\n",
        "* FIPS: Five-digit code assigned to US counties (Similar to zipcodes but used for data mapping) (float)\r\n",
        "* Cases: The number of cases reported that day. (int)\r\n",
        "* Deaths: The number of deaths reported that day. (float)\r\n"
      ]
    },
    {
      "cell_type": "markdown",
      "metadata": {
        "id": "41_sFwfA722Y"
      },
      "source": [
        "#Checking which columns hold missing values before continuing.\r\n",
        "###We want to make sure our data is not missing too many values in important columns."
      ]
    },
    {
      "cell_type": "code",
      "metadata": {
        "id": "_F3GcbBY9cvw"
      },
      "source": [
        "# Using the .loc method to access my dataset and the columns where the null values exist \r\n",
        "missing = covid_data.loc[:, covid_data.isnull().any()].columns  # covid_data.isnull().any() returns boolean value True for each column with NaN values\r\n",
        "\r\n",
        "# Creating a list to store the column names for the null values \r\n",
        "col_names = []\r\n",
        "\r\n",
        "for name in missing:\r\n",
        "  col_names.append(name)"
      ],
      "execution_count": 156,
      "outputs": []
    },
    {
      "cell_type": "code",
      "metadata": {
        "id": "wIN8YuGsyfUb"
      },
      "source": [
        "# Using .isnull to check where values are NaN then .sum() to sum up the total for each column.\r\n",
        "amount_missing = covid_data.isnull().sum()\r\n",
        "\r\n",
        "# Creating a list to store the number of nulls\r\n",
        "amount = []\r\n",
        "\r\n",
        "for num in amount_missing:\r\n",
        "  if num >= 1:\r\n",
        "    amount.append(num)"
      ],
      "execution_count": 157,
      "outputs": []
    },
    {
      "cell_type": "code",
      "metadata": {
        "colab": {
          "base_uri": "https://localhost:8080/"
        },
        "id": "GX0KN16CPpib",
        "outputId": "11293e20-f207-4ba4-c89c-c48b96e0acc3"
      },
      "source": [
        "# Creating a dict using the zip() to combine the two list into a list of tuples then converting it using dict()\r\n",
        "answer = dict(zip(missing,amount))\r\n",
        "\r\n",
        "\r\n",
        "print(f'Here are the columns with missing values and the number of values missing:{answer}')"
      ],
      "execution_count": 158,
      "outputs": [
        {
          "output_type": "stream",
          "text": [
            "Here are the columns with missing values and the number of values missing:{'fips': 8883, 'deaths': 20399}\n"
          ],
          "name": "stdout"
        }
      ]
    },
    {
      "cell_type": "code",
      "metadata": {
        "colab": {
          "base_uri": "https://localhost:8080/",
          "height": 313
        },
        "id": "5YYHYb4hfH44",
        "outputId": "82bdde1c-cc4d-49d7-9103-70fda756e72d"
      },
      "source": [
        "#Creating a heatmap to visualize the missing values in the data \r\n",
        "sns.heatmap(covid_data.isnull(), yticklabels = False, cbar = False).set_title('Missing Values')"
      ],
      "execution_count": 159,
      "outputs": [
        {
          "output_type": "execute_result",
          "data": {
            "text/plain": [
              "Text(0.5, 1.0, 'Missing Values')"
            ]
          },
          "metadata": {
            "tags": []
          },
          "execution_count": 159
        },
        {
          "output_type": "display_data",
          "data": {
            "image/png": "[encoded data removed]",
            "text/plain": [
              "<Figure size 432x288 with 1 Axes>"
            ]
          },
          "metadata": {
            "tags": []
          }
        }
      ]
    },
    {
      "cell_type": "markdown",
      "metadata": {
        "id": "8ecaPKi6Unty"
      },
      "source": [
        "###Our death column is allowed to have missing values. This means there were no deaths reported that day. \r\n",
        "###Our FIPS columns are missing due to combined counties in some states such as New York city counties (New York, Kings, Queens, Bronx, Richmond)\r\n",
        "###After further examination of the missing columns. I can conclude I can continue.\r\n"
      ]
    },
    {
      "cell_type": "markdown",
      "metadata": {
        "id": "9sMta9PLoMMV"
      },
      "source": [
        "#Fixing the datatypes for date and deaths\r\n",
        "Date is a string and I would like to change it to a DateTime object so that I may be more versatile when working on my analysis\r\n",
        "Also death is reported as a float there  can’t be half a dead person. I’ll convert that into a interger.\r\n"
      ]
    },
    {
      "cell_type": "code",
      "metadata": {
        "colab": {
          "base_uri": "https://localhost:8080/"
        },
        "id": "RpzaXUD-kGAz",
        "outputId": "b296983f-3a30-4118-d20a-7153aa09f39f"
      },
      "source": [
        "# I am using the pandas to_datetime() function to change the datatype of the date column from a string to a date time object.\r\n",
        "covid_data['date'] = pd.to_datetime(covid_data['date'])\r\n",
        "type(covid_data['date'])"
      ],
      "execution_count": 160,
      "outputs": [
        {
          "output_type": "execute_result",
          "data": {
            "text/plain": [
              "pandas.core.series.Series"
            ]
          },
          "metadata": {
            "tags": []
          },
          "execution_count": 160
        }
      ]
    },
    {
      "cell_type": "code",
      "metadata": {
        "id": "nar4sGD41kPT"
      },
      "source": [
        "#Error = ValueError: Cannot convert non-finite values (NA or inf) to integer\r\n",
        "#covid_data['deaths'].fillna(0)\r\n",
        "#covid_data['deaths'].astype(int)\r\n"
      ],
      "execution_count": 161,
      "outputs": []
    },
    {
      "cell_type": "markdown",
      "metadata": {
        "id": "pAoArrzIkXj2"
      },
      "source": [
        "#Sussex County\r\n",
        "\r\n",
        "I have chosen to work on the state of Delaware Sussex County (AKA lower slower delaware, so I’ve been told by friends I made living in Delaware). My pararents moved down there in 2018 in hopes to move to a more affordable state."
      ]
    },
    {
      "cell_type": "code",
      "metadata": {
        "colab": {
          "base_uri": "https://localhost:8080/",
          "height": 357
        },
        "id": "THYVLJopURkQ",
        "outputId": "9ec0a0a4-5871-41c9-af3a-3d06b0828681"
      },
      "source": [
        "#I am first creating a dataset with only the state of Delaware so I can have for future use if needed. \r\n",
        "Delaware_state = covid_data.query('state == [\"Delaware\"]')\r\n",
        "\r\n",
        "#Now I'll create a dataset from the Delaware state dataset with only the Sussex county selected.\r\n",
        "Sussex_county = Delaware_state.query('county == [\"Sussex\"]')\r\n",
        "\r\n",
        "Sussex_county.head(10)"
      ],
      "execution_count": 162,
      "outputs": [
        {
          "output_type": "execute_result",
          "data": {
            "text/html": [
              "<div>\n",
              "<style scoped>\n",
              "    .dataframe tbody tr th:only-of-type {\n",
              "        vertical-align: middle;\n",
              "    }\n",
              "\n",
              "    .dataframe tbody tr th {\n",
              "        vertical-align: top;\n",
              "    }\n",
              "\n",
              "    .dataframe thead th {\n",
              "        text-align: right;\n",
              "    }\n",
              "</style>\n",
              "<table border=\"1\" class=\"dataframe\">\n",
              "  <thead>\n",
              "    <tr style=\"text-align: right;\">\n",
              "      <th></th>\n",
              "      <th>date</th>\n",
              "      <th>county</th>\n",
              "      <th>state</th>\n",
              "      <th>fips</th>\n",
              "      <th>cases</th>\n",
              "      <th>deaths</th>\n",
              "    </tr>\n",
              "  </thead>\n",
              "  <tbody>\n",
              "    <tr>\n",
              "      <th>3295</th>\n",
              "      <td>2020-03-17</td>\n",
              "      <td>Sussex</td>\n",
              "      <td>Delaware</td>\n",
              "      <td>10005.0</td>\n",
              "      <td>1</td>\n",
              "      <td>0.0</td>\n",
              "    </tr>\n",
              "    <tr>\n",
              "      <th>3852</th>\n",
              "      <td>2020-03-18</td>\n",
              "      <td>Sussex</td>\n",
              "      <td>Delaware</td>\n",
              "      <td>10005.0</td>\n",
              "      <td>3</td>\n",
              "      <td>0.0</td>\n",
              "    </tr>\n",
              "    <tr>\n",
              "      <th>4517</th>\n",
              "      <td>2020-03-19</td>\n",
              "      <td>Sussex</td>\n",
              "      <td>Delaware</td>\n",
              "      <td>10005.0</td>\n",
              "      <td>3</td>\n",
              "      <td>0.0</td>\n",
              "    </tr>\n",
              "    <tr>\n",
              "      <th>5296</th>\n",
              "      <td>2020-03-20</td>\n",
              "      <td>Sussex</td>\n",
              "      <td>Delaware</td>\n",
              "      <td>10005.0</td>\n",
              "      <td>7</td>\n",
              "      <td>0.0</td>\n",
              "    </tr>\n",
              "    <tr>\n",
              "      <th>6223</th>\n",
              "      <td>2020-03-21</td>\n",
              "      <td>Sussex</td>\n",
              "      <td>Delaware</td>\n",
              "      <td>10005.0</td>\n",
              "      <td>8</td>\n",
              "      <td>0.0</td>\n",
              "    </tr>\n",
              "    <tr>\n",
              "      <th>7259</th>\n",
              "      <td>2020-03-22</td>\n",
              "      <td>Sussex</td>\n",
              "      <td>Delaware</td>\n",
              "      <td>10005.0</td>\n",
              "      <td>12</td>\n",
              "      <td>0.0</td>\n",
              "    </tr>\n",
              "    <tr>\n",
              "      <th>8405</th>\n",
              "      <td>2020-03-23</td>\n",
              "      <td>Sussex</td>\n",
              "      <td>Delaware</td>\n",
              "      <td>10005.0</td>\n",
              "      <td>20</td>\n",
              "      <td>0.0</td>\n",
              "    </tr>\n",
              "    <tr>\n",
              "      <th>9650</th>\n",
              "      <td>2020-03-24</td>\n",
              "      <td>Sussex</td>\n",
              "      <td>Delaware</td>\n",
              "      <td>10005.0</td>\n",
              "      <td>23</td>\n",
              "      <td>0.0</td>\n",
              "    </tr>\n",
              "    <tr>\n",
              "      <th>11024</th>\n",
              "      <td>2020-03-25</td>\n",
              "      <td>Sussex</td>\n",
              "      <td>Delaware</td>\n",
              "      <td>10005.0</td>\n",
              "      <td>26</td>\n",
              "      <td>0.0</td>\n",
              "    </tr>\n",
              "    <tr>\n",
              "      <th>12572</th>\n",
              "      <td>2020-03-26</td>\n",
              "      <td>Sussex</td>\n",
              "      <td>Delaware</td>\n",
              "      <td>10005.0</td>\n",
              "      <td>33</td>\n",
              "      <td>1.0</td>\n",
              "    </tr>\n",
              "  </tbody>\n",
              "</table>\n",
              "</div>"
            ],
            "text/plain": [
              "            date  county     state     fips  cases  deaths\n",
              "3295  2020-03-17  Sussex  Delaware  10005.0      1     0.0\n",
              "3852  2020-03-18  Sussex  Delaware  10005.0      3     0.0\n",
              "4517  2020-03-19  Sussex  Delaware  10005.0      3     0.0\n",
              "5296  2020-03-20  Sussex  Delaware  10005.0      7     0.0\n",
              "6223  2020-03-21  Sussex  Delaware  10005.0      8     0.0\n",
              "7259  2020-03-22  Sussex  Delaware  10005.0     12     0.0\n",
              "8405  2020-03-23  Sussex  Delaware  10005.0     20     0.0\n",
              "9650  2020-03-24  Sussex  Delaware  10005.0     23     0.0\n",
              "11024 2020-03-25  Sussex  Delaware  10005.0     26     0.0\n",
              "12572 2020-03-26  Sussex  Delaware  10005.0     33     1.0"
            ]
          },
          "metadata": {
            "tags": []
          },
          "execution_count": 162
        }
      ]
    },
    {
      "cell_type": "markdown",
      "metadata": {
        "id": "Nko2e5sLtRVz"
      },
      "source": [
        "#Let's Visualize this data \r\n"
      ]
    },
    {
      "cell_type": "code",
      "metadata": {
        "colab": {
          "base_uri": "https://localhost:8080/",
          "height": 361
        },
        "id": "ia9FZDKFmh0N",
        "outputId": "4647478c-bc5b-45e0-996c-96889525436f"
      },
      "source": [
        "# Creating a simple line plot to visualize the number of cases over time. \r\n",
        "Sussex_plot = sns.lineplot(x = 'date', y = 'cases', data = Sussex_county).set_title('Cases Over Time in Sussex County')\r\n",
        "\r\n",
        "plt.xticks(rotation=45, ha='right') # My x-axis was too bunched up, this line puts it all on an angle \r\n",
        "\r\n",
        "plt.show()"
      ],
      "execution_count": 163,
      "outputs": [
        {
          "output_type": "display_data",
          "data": {
            "image/png": "[encoded data removed]",
            "text/plain": [
              "<Figure size 432x288 with 1 Axes>"
            ]
          },
          "metadata": {
            "tags": []
          }
        }
      ]
    },
    {
      "cell_type": "code",
      "metadata": {
        "colab": {
          "base_uri": "https://localhost:8080/",
          "height": 361
        },
        "id": "VgJ8YxTYpnMW",
        "outputId": "ad4fc21c-cd51-4965-aaf6-99fa11333d2b"
      },
      "source": [
        "# Creating a simple line plot to visualize the number of deaths over time. \r\n",
        "Sussex_plot = sns.lineplot(x = 'date', y = 'deaths', data = Sussex_county).set_title('Deaths Over Time in Sussex County')\r\n",
        "\r\n",
        "plt.xticks(rotation=45, ha='right') \r\n",
        "\r\n",
        "plt.show()"
      ],
      "execution_count": 164,
      "outputs": [
        {
          "output_type": "display_data",
          "data": {
            "image/png": "[encoded data removed]",
            "text/plain": [
              "<Figure size 432x288 with 1 Axes>"
            ]
          },
          "metadata": {
            "tags": []
          }
        }
      ]
    },
    {
      "cell_type": "markdown",
      "metadata": {
        "id": "ErW7UR-wZngX"
      },
      "source": [
        "# I would like to see a all the months listed\r\n"
      ]
    },
    {
      "cell_type": "code",
      "metadata": {
        "colab": {
          "base_uri": "https://localhost:8080/",
          "height": 512
        },
        "id": "C0glWklmZnM1",
        "outputId": "7da39ab5-23e3-4088-a914-6d61a47cfd76"
      },
      "source": [
        "#I am going to create a few new columns so that I may be able to analysis my data in different ways \r\n",
        "Sussex_county['Month_Year'] = Sussex_county['date'].dt.strftime('%m-%Y') # Formatting the date in months name abbreviation and 4 digit years\r\n",
        "\r\n",
        "# These two lines are using lambda functions to take the date column as an argument and apply the datetime .year or .day to each row using apply()\r\n",
        "Sussex_county['Year'] = Sussex_county['date'].apply(lambda date: date.year)\r\n",
        "Sussex_county['day'] = Sussex_county['date'].apply(lambda date: date.day)\r\n",
        "\r\n",
        "Sussex_county.head()"
      ],
      "execution_count": 165,
      "outputs": [
        {
          "output_type": "stream",
          "text": [
            "/usr/local/lib/python3.6/dist-packages/ipykernel_launcher.py:2: SettingWithCopyWarning: \n",
            "A value is trying to be set on a copy of a slice from a DataFrame.\n",
            "Try using .loc[row_indexer,col_indexer] = value instead\n",
            "\n",
            "See the caveats in the documentation: https://pandas.pydata.org/pandas-docs/stable/user_guide/indexing.html#returning-a-view-versus-a-copy\n",
            "  \n",
            "/usr/local/lib/python3.6/dist-packages/ipykernel_launcher.py:5: SettingWithCopyWarning: \n",
            "A value is trying to be set on a copy of a slice from a DataFrame.\n",
            "Try using .loc[row_indexer,col_indexer] = value instead\n",
            "\n",
            "See the caveats in the documentation: https://pandas.pydata.org/pandas-docs/stable/user_guide/indexing.html#returning-a-view-versus-a-copy\n",
            "  \"\"\"\n",
            "/usr/local/lib/python3.6/dist-packages/ipykernel_launcher.py:6: SettingWithCopyWarning: \n",
            "A value is trying to be set on a copy of a slice from a DataFrame.\n",
            "Try using .loc[row_indexer,col_indexer] = value instead\n",
            "\n",
            "See the caveats in the documentation: https://pandas.pydata.org/pandas-docs/stable/user_guide/indexing.html#returning-a-view-versus-a-copy\n",
            "  \n"
          ],
          "name": "stderr"
        },
        {
          "output_type": "execute_result",
          "data": {
            "text/html": [
              "<div>\n",
              "<style scoped>\n",
              "    .dataframe tbody tr th:only-of-type {\n",
              "        vertical-align: middle;\n",
              "    }\n",
              "\n",
              "    .dataframe tbody tr th {\n",
              "        vertical-align: top;\n",
              "    }\n",
              "\n",
              "    .dataframe thead th {\n",
              "        text-align: right;\n",
              "    }\n",
              "</style>\n",
              "<table border=\"1\" class=\"dataframe\">\n",
              "  <thead>\n",
              "    <tr style=\"text-align: right;\">\n",
              "      <th></th>\n",
              "      <th>date</th>\n",
              "      <th>county</th>\n",
              "      <th>state</th>\n",
              "      <th>fips</th>\n",
              "      <th>cases</th>\n",
              "      <th>deaths</th>\n",
              "      <th>Month_Year</th>\n",
              "      <th>Year</th>\n",
              "      <th>day</th>\n",
              "    </tr>\n",
              "  </thead>\n",
              "  <tbody>\n",
              "    <tr>\n",
              "      <th>3295</th>\n",
              "      <td>2020-03-17</td>\n",
              "      <td>Sussex</td>\n",
              "      <td>Delaware</td>\n",
              "      <td>10005.0</td>\n",
              "      <td>1</td>\n",
              "      <td>0.0</td>\n",
              "      <td>03-2020</td>\n",
              "      <td>2020</td>\n",
              "      <td>17</td>\n",
              "    </tr>\n",
              "    <tr>\n",
              "      <th>3852</th>\n",
              "      <td>2020-03-18</td>\n",
              "      <td>Sussex</td>\n",
              "      <td>Delaware</td>\n",
              "      <td>10005.0</td>\n",
              "      <td>3</td>\n",
              "      <td>0.0</td>\n",
              "      <td>03-2020</td>\n",
              "      <td>2020</td>\n",
              "      <td>18</td>\n",
              "    </tr>\n",
              "    <tr>\n",
              "      <th>4517</th>\n",
              "      <td>2020-03-19</td>\n",
              "      <td>Sussex</td>\n",
              "      <td>Delaware</td>\n",
              "      <td>10005.0</td>\n",
              "      <td>3</td>\n",
              "      <td>0.0</td>\n",
              "      <td>03-2020</td>\n",
              "      <td>2020</td>\n",
              "      <td>19</td>\n",
              "    </tr>\n",
              "    <tr>\n",
              "      <th>5296</th>\n",
              "      <td>2020-03-20</td>\n",
              "      <td>Sussex</td>\n",
              "      <td>Delaware</td>\n",
              "      <td>10005.0</td>\n",
              "      <td>7</td>\n",
              "      <td>0.0</td>\n",
              "      <td>03-2020</td>\n",
              "      <td>2020</td>\n",
              "      <td>20</td>\n",
              "    </tr>\n",
              "    <tr>\n",
              "      <th>6223</th>\n",
              "      <td>2020-03-21</td>\n",
              "      <td>Sussex</td>\n",
              "      <td>Delaware</td>\n",
              "      <td>10005.0</td>\n",
              "      <td>8</td>\n",
              "      <td>0.0</td>\n",
              "      <td>03-2020</td>\n",
              "      <td>2020</td>\n",
              "      <td>21</td>\n",
              "    </tr>\n",
              "  </tbody>\n",
              "</table>\n",
              "</div>"
            ],
            "text/plain": [
              "           date  county     state     fips  cases  deaths Month_Year  Year  day\n",
              "3295 2020-03-17  Sussex  Delaware  10005.0      1     0.0    03-2020  2020   17\n",
              "3852 2020-03-18  Sussex  Delaware  10005.0      3     0.0    03-2020  2020   18\n",
              "4517 2020-03-19  Sussex  Delaware  10005.0      3     0.0    03-2020  2020   19\n",
              "5296 2020-03-20  Sussex  Delaware  10005.0      7     0.0    03-2020  2020   20\n",
              "6223 2020-03-21  Sussex  Delaware  10005.0      8     0.0    03-2020  2020   21"
            ]
          },
          "metadata": {
            "tags": []
          },
          "execution_count": 165
        }
      ]
    },
    {
      "cell_type": "code",
      "metadata": {
        "id": "SNd2EqdUqrPf"
      },
      "source": [
        ""
      ],
      "execution_count": 165,
      "outputs": []
    },
    {
      "cell_type": "markdown",
      "metadata": {
        "id": "etvLYFa2dFTH"
      },
      "source": [
        "# Now I'll group the cases by month"
      ]
    },
    {
      "cell_type": "code",
      "metadata": {
        "colab": {
          "base_uri": "https://localhost:8080/",
          "height": 387
        },
        "id": "N9uu-hbcvCvR",
        "outputId": "cb38914e-f867-4e67-fd25-e9c0456196b3"
      },
      "source": [
        "# I am creating a new dataframe from the Sussex_county data and grouping them by the 'Month_Year' column.\r\n",
        "# I also calculated the total sum for each month\r\n",
        "Sussex_Months = Sussex_county.groupby('Month_Year').sum().sort_values('Month_Year', ascending = True).reset_index() # I reset my index because after the groupby \r\n",
        "                                                                                                                    # my index became 'Month_Year'\r\n",
        "# I'm keeping the county name in for future use.\r\n",
        "Sussex_Months['county'] = 'Sussex'\r\n",
        "\r\n",
        "Sussex_Months\r\n"
      ],
      "execution_count": 166,
      "outputs": [
        {
          "output_type": "execute_result",
          "data": {
            "text/html": [
              "<div>\n",
              "<style scoped>\n",
              "    .dataframe tbody tr th:only-of-type {\n",
              "        vertical-align: middle;\n",
              "    }\n",
              "\n",
              "    .dataframe tbody tr th {\n",
              "        vertical-align: top;\n",
              "    }\n",
              "\n",
              "    .dataframe thead th {\n",
              "        text-align: right;\n",
              "    }\n",
              "</style>\n",
              "<table border=\"1\" class=\"dataframe\">\n",
              "  <thead>\n",
              "    <tr style=\"text-align: right;\">\n",
              "      <th></th>\n",
              "      <th>Month_Year</th>\n",
              "      <th>fips</th>\n",
              "      <th>cases</th>\n",
              "      <th>deaths</th>\n",
              "      <th>Year</th>\n",
              "      <th>day</th>\n",
              "      <th>county</th>\n",
              "    </tr>\n",
              "  </thead>\n",
              "  <tbody>\n",
              "    <tr>\n",
              "      <th>0</th>\n",
              "      <td>01-2021</td>\n",
              "      <td>210105.0</td>\n",
              "      <td>363208</td>\n",
              "      <td>6544.0</td>\n",
              "      <td>42441</td>\n",
              "      <td>231</td>\n",
              "      <td>Sussex</td>\n",
              "    </tr>\n",
              "    <tr>\n",
              "      <th>1</th>\n",
              "      <td>03-2020</td>\n",
              "      <td>150075.0</td>\n",
              "      <td>468</td>\n",
              "      <td>8.0</td>\n",
              "      <td>30300</td>\n",
              "      <td>360</td>\n",
              "      <td>Sussex</td>\n",
              "    </tr>\n",
              "    <tr>\n",
              "      <th>2</th>\n",
              "      <td>04-2020</td>\n",
              "      <td>300150.0</td>\n",
              "      <td>25836</td>\n",
              "      <td>668.0</td>\n",
              "      <td>60600</td>\n",
              "      <td>465</td>\n",
              "      <td>Sussex</td>\n",
              "    </tr>\n",
              "    <tr>\n",
              "      <th>3</th>\n",
              "      <td>05-2020</td>\n",
              "      <td>310155.0</td>\n",
              "      <td>107939</td>\n",
              "      <td>3206.0</td>\n",
              "      <td>62620</td>\n",
              "      <td>496</td>\n",
              "      <td>Sussex</td>\n",
              "    </tr>\n",
              "    <tr>\n",
              "      <th>4</th>\n",
              "      <td>06-2020</td>\n",
              "      <td>300150.0</td>\n",
              "      <td>133075</td>\n",
              "      <td>4648.0</td>\n",
              "      <td>60600</td>\n",
              "      <td>465</td>\n",
              "      <td>Sussex</td>\n",
              "    </tr>\n",
              "    <tr>\n",
              "      <th>5</th>\n",
              "      <td>07-2020</td>\n",
              "      <td>310155.0</td>\n",
              "      <td>161438</td>\n",
              "      <td>5586.0</td>\n",
              "      <td>62620</td>\n",
              "      <td>496</td>\n",
              "      <td>Sussex</td>\n",
              "    </tr>\n",
              "    <tr>\n",
              "      <th>6</th>\n",
              "      <td>08-2020</td>\n",
              "      <td>310155.0</td>\n",
              "      <td>187432</td>\n",
              "      <td>5981.0</td>\n",
              "      <td>62620</td>\n",
              "      <td>496</td>\n",
              "      <td>Sussex</td>\n",
              "    </tr>\n",
              "    <tr>\n",
              "      <th>7</th>\n",
              "      <td>09-2020</td>\n",
              "      <td>300150.0</td>\n",
              "      <td>196627</td>\n",
              "      <td>5997.0</td>\n",
              "      <td>60600</td>\n",
              "      <td>465</td>\n",
              "      <td>Sussex</td>\n",
              "    </tr>\n",
              "    <tr>\n",
              "      <th>8</th>\n",
              "      <td>10-2020</td>\n",
              "      <td>310155.0</td>\n",
              "      <td>230583</td>\n",
              "      <td>6691.0</td>\n",
              "      <td>62620</td>\n",
              "      <td>496</td>\n",
              "      <td>Sussex</td>\n",
              "    </tr>\n",
              "    <tr>\n",
              "      <th>9</th>\n",
              "      <td>11-2020</td>\n",
              "      <td>300150.0</td>\n",
              "      <td>274761</td>\n",
              "      <td>7452.0</td>\n",
              "      <td>60600</td>\n",
              "      <td>465</td>\n",
              "      <td>Sussex</td>\n",
              "    </tr>\n",
              "    <tr>\n",
              "      <th>10</th>\n",
              "      <td>12-2020</td>\n",
              "      <td>310155.0</td>\n",
              "      <td>395289</td>\n",
              "      <td>8616.0</td>\n",
              "      <td>62620</td>\n",
              "      <td>496</td>\n",
              "      <td>Sussex</td>\n",
              "    </tr>\n",
              "  </tbody>\n",
              "</table>\n",
              "</div>"
            ],
            "text/plain": [
              "   Month_Year      fips   cases  deaths   Year  day  county\n",
              "0     01-2021  210105.0  363208  6544.0  42441  231  Sussex\n",
              "1     03-2020  150075.0     468     8.0  30300  360  Sussex\n",
              "2     04-2020  300150.0   25836   668.0  60600  465  Sussex\n",
              "3     05-2020  310155.0  107939  3206.0  62620  496  Sussex\n",
              "4     06-2020  300150.0  133075  4648.0  60600  465  Sussex\n",
              "5     07-2020  310155.0  161438  5586.0  62620  496  Sussex\n",
              "6     08-2020  310155.0  187432  5981.0  62620  496  Sussex\n",
              "7     09-2020  300150.0  196627  5997.0  60600  465  Sussex\n",
              "8     10-2020  310155.0  230583  6691.0  62620  496  Sussex\n",
              "9     11-2020  300150.0  274761  7452.0  60600  465  Sussex\n",
              "10    12-2020  310155.0  395289  8616.0  62620  496  Sussex"
            ]
          },
          "metadata": {
            "tags": []
          },
          "execution_count": 166
        }
      ]
    },
    {
      "cell_type": "markdown",
      "metadata": {
        "id": "5ygE0Scydaqz"
      },
      "source": [
        "#Which month had the highest reported case and deaths?"
      ]
    },
    {
      "cell_type": "code",
      "metadata": {
        "colab": {
          "base_uri": "https://localhost:8080/"
        },
        "id": "PpTZJKCEyMJv",
        "outputId": "ecb291cd-93ed-4da8-80c7-57c4ee46fdaf"
      },
      "source": [
        "#Computing the max for the entire Sussex county\r\n",
        "Sussex_max = Sussex_Months.max()\r\n",
        "\r\n",
        "# Creating variables to store the max Month, Cases, and Deaths for Sussex based off the Sussex_max \r\n",
        "Sussex_maxMonth = Sussex_max[0]\r\n",
        "Sussex_maxCases = Sussex_max[2] \r\n",
        "Sussex_maxDeath = Sussex_max[3]\r\n",
        "\r\n",
        "print(f'{Sussex_maxMonth} is the month with the highest cases totaling {Sussex_maxCases}')\r\n",
        "print()\r\n",
        "print(f'{Sussex_maxMonth} is the month with the highest cases totaling {Sussex_maxDeath}')"
      ],
      "execution_count": 167,
      "outputs": [
        {
          "output_type": "stream",
          "text": [
            "12-2020 is the month with the highest cases totaling 395289\n",
            "\n",
            "12-2020 is the month with the highest cases totaling 8616.0\n"
          ],
          "name": "stdout"
        }
      ]
    },
    {
      "cell_type": "markdown",
      "metadata": {
        "id": "OZYee_yZvD2f"
      },
      "source": [
        "# Visualized max\r\n"
      ]
    },
    {
      "cell_type": "code",
      "metadata": {
        "colab": {
          "base_uri": "https://localhost:8080/",
          "height": 342
        },
        "id": "MZpeSqREvnLs",
        "outputId": "2547c2a2-77d5-4ba8-f831-fbffe74472fc"
      },
      "source": [
        "# Creating a barplot for max cases in Sussex county by month \r\n",
        "Sussex_barplot_cases = sns.barplot(x = 'Month_Year', y = 'cases', data = Sussex_Months, palette='icefire')\r\n",
        "\r\n",
        "plt.xticks(rotation=45, ha='right')\r\n",
        "\r\n",
        "plt.show()"
      ],
      "execution_count": 168,
      "outputs": [
        {
          "output_type": "display_data",
          "data": {
            "image/png": "[encoded data removed]",
            "text/plain": [
              "<Figure size 432x288 with 1 Axes>"
            ]
          },
          "metadata": {
            "tags": []
          }
        }
      ]
    },
    {
      "cell_type": "code",
      "metadata": {
        "colab": {
          "base_uri": "https://localhost:8080/",
          "height": 342
        },
        "id": "c8FYv-N58z9m",
        "outputId": "e5e66221-48e8-454f-f0b6-af11cf9ac963"
      },
      "source": [
        "# Creating a barplot for max cases in Sussex county by month \r\n",
        "Sussex_barplot_deaths = sns.barplot(x = 'Month_Year', y = 'deaths', data = Sussex_Months, palette='icefire')\r\n",
        "\r\n",
        "plt.xticks(rotation=45, ha='right')\r\n",
        "\r\n",
        "plt.show()"
      ],
      "execution_count": 169,
      "outputs": [
        {
          "output_type": "display_data",
          "data": {
            "image/png": "[encoded data removed]",
            "text/plain": [
              "<Figure size 432x288 with 1 Axes>"
            ]
          },
          "metadata": {
            "tags": []
          }
        }
      ]
    },
    {
      "cell_type": "markdown",
      "metadata": {
        "id": "04QXP2Z398Az"
      },
      "source": [
        "#Will Jan, 2021 end with higher cases and deaths than Dec, 2020?"
      ]
    },
    {
      "cell_type": "code",
      "metadata": {
        "id": "sph0rixA-N08"
      },
      "source": [
        "#To calculate the percentage of monthly growth, subtract the previous month's measurement from the current month's measurement. \r\n",
        "#Then, divide the result by the previous month's measurement and multiply by 100 to convert the answer into a percentage.\r\n",
        "\r\n",
        "def growth(df):\r\n",
        "  \"\"\" This function takes one column and computes the percent growth based off its previous values \"\"\" \r\n",
        " \r\n",
        "  growth = [] # creating an empty list to store the data\r\n",
        "  n = len(df) # using the len(df) to make a stopping point for my while loop and to act as the index number    \r\n",
        "\r\n",
        "  # Calculating the first month Jan 2021 \r\n",
        "  last_month = n - 1 \r\n",
        "  current = ((df.loc[0] - df.iloc[last_month]) / df.iloc[last_month]) * 100\r\n",
        "  growth.append(current.round(2)) # appending the first month to the list first because the most current month will always be index 0 in this data\r\n",
        "\r\n",
        "  # Looping through the until n == 1 because index 1 is the first month and has no previous month to compute\r\n",
        "  while n != 1:\r\n",
        "    n -= 1 # decreasing n by 1 every iteration \r\n",
        "    change = (df.iloc[n] - df.iloc[n-1]) / df.iloc[n-1] # computing the change in growth\r\n",
        "    percentage = (change * 100).round(2) # converting the value of change into a percentage \r\n",
        "    growth.append(percentage) # adding the percentage to the list \r\n",
        "  return growth\r\n",
        "\r\n",
        "\r\n",
        "\r\n",
        "temp_list = growth(Sussex_Months['cases'])\r\n"
      ],
      "execution_count": 170,
      "outputs": []
    },
    {
      "cell_type": "code",
      "metadata": {
        "colab": {
          "base_uri": "https://localhost:8080/"
        },
        "id": "GJu04nG-zDPV",
        "outputId": "72af0cd9-64e5-4352-91c6-ac8b6d122b84"
      },
      "source": [
        "print(temp_list)"
      ],
      "execution_count": 171,
      "outputs": [
        {
          "output_type": "stream",
          "text": [
            "[-8.12, 43.87, 19.16, 17.27, 4.91, 16.1, 21.31, 23.29, 317.79, 5420.51, -99.87]\n"
          ],
          "name": "stdout"
        }
      ]
    },
    {
      "cell_type": "code",
      "metadata": {
        "colab": {
          "base_uri": "https://localhost:8080/",
          "height": 387
        },
        "id": "Mc_s9J5IJeRO",
        "outputId": "b05d2252-f157-4a67-f564-f43e3860e927"
      },
      "source": [
        "def fixed_growth(temp,df,new_col):\r\n",
        "  \"\"\" This function takes 3 arguments a list, the data, and the new colmun name. It matches the growth percentage with it's actual month. \"\"\" \r\n",
        "\r\n",
        "  fixed_growth = [] #creating an empty list to store the data\r\n",
        "  fixed_growth.append(temp[0]) # adding the current month to the front of the list\r\n",
        "\r\n",
        "  # looping through the data backwards and appending the values to the list\r\n",
        "  for num in temp[:0:-1]:\r\n",
        "    fixed_growth.append(num)\r\n",
        "\r\n",
        "  # Adding the created list back to the dataframe\r\n",
        "  df[new_col] = fixed_growth\r\n",
        "  return df[new_col]\r\n",
        "\r\n",
        "fixed_growth(temp_list, Sussex_Months,'Cases_Growth_Percentage')\r\n",
        "\r\n",
        "Sussex_Months"
      ],
      "execution_count": 172,
      "outputs": [
        {
          "output_type": "execute_result",
          "data": {
            "text/html": [
              "<div>\n",
              "<style scoped>\n",
              "    .dataframe tbody tr th:only-of-type {\n",
              "        vertical-align: middle;\n",
              "    }\n",
              "\n",
              "    .dataframe tbody tr th {\n",
              "        vertical-align: top;\n",
              "    }\n",
              "\n",
              "    .dataframe thead th {\n",
              "        text-align: right;\n",
              "    }\n",
              "</style>\n",
              "<table border=\"1\" class=\"dataframe\">\n",
              "  <thead>\n",
              "    <tr style=\"text-align: right;\">\n",
              "      <th></th>\n",
              "      <th>Month_Year</th>\n",
              "      <th>fips</th>\n",
              "      <th>cases</th>\n",
              "      <th>deaths</th>\n",
              "      <th>Year</th>\n",
              "      <th>day</th>\n",
              "      <th>county</th>\n",
              "      <th>Cases_Growth_Percentage</th>\n",
              "    </tr>\n",
              "  </thead>\n",
              "  <tbody>\n",
              "    <tr>\n",
              "      <th>0</th>\n",
              "      <td>01-2021</td>\n",
              "      <td>210105.0</td>\n",
              "      <td>363208</td>\n",
              "      <td>6544.0</td>\n",
              "      <td>42441</td>\n",
              "      <td>231</td>\n",
              "      <td>Sussex</td>\n",
              "      <td>-8.12</td>\n",
              "    </tr>\n",
              "    <tr>\n",
              "      <th>1</th>\n",
              "      <td>03-2020</td>\n",
              "      <td>150075.0</td>\n",
              "      <td>468</td>\n",
              "      <td>8.0</td>\n",
              "      <td>30300</td>\n",
              "      <td>360</td>\n",
              "      <td>Sussex</td>\n",
              "      <td>-99.87</td>\n",
              "    </tr>\n",
              "    <tr>\n",
              "      <th>2</th>\n",
              "      <td>04-2020</td>\n",
              "      <td>300150.0</td>\n",
              "      <td>25836</td>\n",
              "      <td>668.0</td>\n",
              "      <td>60600</td>\n",
              "      <td>465</td>\n",
              "      <td>Sussex</td>\n",
              "      <td>5420.51</td>\n",
              "    </tr>\n",
              "    <tr>\n",
              "      <th>3</th>\n",
              "      <td>05-2020</td>\n",
              "      <td>310155.0</td>\n",
              "      <td>107939</td>\n",
              "      <td>3206.0</td>\n",
              "      <td>62620</td>\n",
              "      <td>496</td>\n",
              "      <td>Sussex</td>\n",
              "      <td>317.79</td>\n",
              "    </tr>\n",
              "    <tr>\n",
              "      <th>4</th>\n",
              "      <td>06-2020</td>\n",
              "      <td>300150.0</td>\n",
              "      <td>133075</td>\n",
              "      <td>4648.0</td>\n",
              "      <td>60600</td>\n",
              "      <td>465</td>\n",
              "      <td>Sussex</td>\n",
              "      <td>23.29</td>\n",
              "    </tr>\n",
              "    <tr>\n",
              "      <th>5</th>\n",
              "      <td>07-2020</td>\n",
              "      <td>310155.0</td>\n",
              "      <td>161438</td>\n",
              "      <td>5586.0</td>\n",
              "      <td>62620</td>\n",
              "      <td>496</td>\n",
              "      <td>Sussex</td>\n",
              "      <td>21.31</td>\n",
              "    </tr>\n",
              "    <tr>\n",
              "      <th>6</th>\n",
              "      <td>08-2020</td>\n",
              "      <td>310155.0</td>\n",
              "      <td>187432</td>\n",
              "      <td>5981.0</td>\n",
              "      <td>62620</td>\n",
              "      <td>496</td>\n",
              "      <td>Sussex</td>\n",
              "      <td>16.10</td>\n",
              "    </tr>\n",
              "    <tr>\n",
              "      <th>7</th>\n",
              "      <td>09-2020</td>\n",
              "      <td>300150.0</td>\n",
              "      <td>196627</td>\n",
              "      <td>5997.0</td>\n",
              "      <td>60600</td>\n",
              "      <td>465</td>\n",
              "      <td>Sussex</td>\n",
              "      <td>4.91</td>\n",
              "    </tr>\n",
              "    <tr>\n",
              "      <th>8</th>\n",
              "      <td>10-2020</td>\n",
              "      <td>310155.0</td>\n",
              "      <td>230583</td>\n",
              "      <td>6691.0</td>\n",
              "      <td>62620</td>\n",
              "      <td>496</td>\n",
              "      <td>Sussex</td>\n",
              "      <td>17.27</td>\n",
              "    </tr>\n",
              "    <tr>\n",
              "      <th>9</th>\n",
              "      <td>11-2020</td>\n",
              "      <td>300150.0</td>\n",
              "      <td>274761</td>\n",
              "      <td>7452.0</td>\n",
              "      <td>60600</td>\n",
              "      <td>465</td>\n",
              "      <td>Sussex</td>\n",
              "      <td>19.16</td>\n",
              "    </tr>\n",
              "    <tr>\n",
              "      <th>10</th>\n",
              "      <td>12-2020</td>\n",
              "      <td>310155.0</td>\n",
              "      <td>395289</td>\n",
              "      <td>8616.0</td>\n",
              "      <td>62620</td>\n",
              "      <td>496</td>\n",
              "      <td>Sussex</td>\n",
              "      <td>43.87</td>\n",
              "    </tr>\n",
              "  </tbody>\n",
              "</table>\n",
              "</div>"
            ],
            "text/plain": [
              "   Month_Year      fips   cases  ...  day  county  Cases_Growth_Percentage\n",
              "0     01-2021  210105.0  363208  ...  231  Sussex                    -8.12\n",
              "1     03-2020  150075.0     468  ...  360  Sussex                   -99.87\n",
              "2     04-2020  300150.0   25836  ...  465  Sussex                  5420.51\n",
              "3     05-2020  310155.0  107939  ...  496  Sussex                   317.79\n",
              "4     06-2020  300150.0  133075  ...  465  Sussex                    23.29\n",
              "5     07-2020  310155.0  161438  ...  496  Sussex                    21.31\n",
              "6     08-2020  310155.0  187432  ...  496  Sussex                    16.10\n",
              "7     09-2020  300150.0  196627  ...  465  Sussex                     4.91\n",
              "8     10-2020  310155.0  230583  ...  496  Sussex                    17.27\n",
              "9     11-2020  300150.0  274761  ...  465  Sussex                    19.16\n",
              "10    12-2020  310155.0  395289  ...  496  Sussex                    43.87\n",
              "\n",
              "[11 rows x 8 columns]"
            ]
          },
          "metadata": {
            "tags": []
          },
          "execution_count": 172
        }
      ]
    },
    {
      "cell_type": "code",
      "metadata": {
        "colab": {
          "base_uri": "https://localhost:8080/",
          "height": 473
        },
        "id": "liS1yUPPkk8Y",
        "outputId": "27d5d7d5-6406-4769-a41d-112a23dc703d"
      },
      "source": [
        "# Making the first month reported growth value into NaN\r\n",
        "Sussex_Months['Cases_Growth_Percentage'].iloc[1] = np.nan\r\n",
        "Sussex_Months"
      ],
      "execution_count": 173,
      "outputs": [
        {
          "output_type": "stream",
          "text": [
            "/usr/local/lib/python3.6/dist-packages/pandas/core/indexing.py:670: SettingWithCopyWarning: \n",
            "A value is trying to be set on a copy of a slice from a DataFrame\n",
            "\n",
            "See the caveats in the documentation: https://pandas.pydata.org/pandas-docs/stable/user_guide/indexing.html#returning-a-view-versus-a-copy\n",
            "  iloc._setitem_with_indexer(indexer, value)\n"
          ],
          "name": "stderr"
        },
        {
          "output_type": "execute_result",
          "data": {
            "text/html": [
              "<div>\n",
              "<style scoped>\n",
              "    .dataframe tbody tr th:only-of-type {\n",
              "        vertical-align: middle;\n",
              "    }\n",
              "\n",
              "    .dataframe tbody tr th {\n",
              "        vertical-align: top;\n",
              "    }\n",
              "\n",
              "    .dataframe thead th {\n",
              "        text-align: right;\n",
              "    }\n",
              "</style>\n",
              "<table border=\"1\" class=\"dataframe\">\n",
              "  <thead>\n",
              "    <tr style=\"text-align: right;\">\n",
              "      <th></th>\n",
              "      <th>Month_Year</th>\n",
              "      <th>fips</th>\n",
              "      <th>cases</th>\n",
              "      <th>deaths</th>\n",
              "      <th>Year</th>\n",
              "      <th>day</th>\n",
              "      <th>county</th>\n",
              "      <th>Cases_Growth_Percentage</th>\n",
              "    </tr>\n",
              "  </thead>\n",
              "  <tbody>\n",
              "    <tr>\n",
              "      <th>0</th>\n",
              "      <td>01-2021</td>\n",
              "      <td>210105.0</td>\n",
              "      <td>363208</td>\n",
              "      <td>6544.0</td>\n",
              "      <td>42441</td>\n",
              "      <td>231</td>\n",
              "      <td>Sussex</td>\n",
              "      <td>-8.12</td>\n",
              "    </tr>\n",
              "    <tr>\n",
              "      <th>1</th>\n",
              "      <td>03-2020</td>\n",
              "      <td>150075.0</td>\n",
              "      <td>468</td>\n",
              "      <td>8.0</td>\n",
              "      <td>30300</td>\n",
              "      <td>360</td>\n",
              "      <td>Sussex</td>\n",
              "      <td>NaN</td>\n",
              "    </tr>\n",
              "    <tr>\n",
              "      <th>2</th>\n",
              "      <td>04-2020</td>\n",
              "      <td>300150.0</td>\n",
              "      <td>25836</td>\n",
              "      <td>668.0</td>\n",
              "      <td>60600</td>\n",
              "      <td>465</td>\n",
              "      <td>Sussex</td>\n",
              "      <td>5420.51</td>\n",
              "    </tr>\n",
              "    <tr>\n",
              "      <th>3</th>\n",
              "      <td>05-2020</td>\n",
              "      <td>310155.0</td>\n",
              "      <td>107939</td>\n",
              "      <td>3206.0</td>\n",
              "      <td>62620</td>\n",
              "      <td>496</td>\n",
              "      <td>Sussex</td>\n",
              "      <td>317.79</td>\n",
              "    </tr>\n",
              "    <tr>\n",
              "      <th>4</th>\n",
              "      <td>06-2020</td>\n",
              "      <td>300150.0</td>\n",
              "      <td>133075</td>\n",
              "      <td>4648.0</td>\n",
              "      <td>60600</td>\n",
              "      <td>465</td>\n",
              "      <td>Sussex</td>\n",
              "      <td>23.29</td>\n",
              "    </tr>\n",
              "    <tr>\n",
              "      <th>5</th>\n",
              "      <td>07-2020</td>\n",
              "      <td>310155.0</td>\n",
              "      <td>161438</td>\n",
              "      <td>5586.0</td>\n",
              "      <td>62620</td>\n",
              "      <td>496</td>\n",
              "      <td>Sussex</td>\n",
              "      <td>21.31</td>\n",
              "    </tr>\n",
              "    <tr>\n",
              "      <th>6</th>\n",
              "      <td>08-2020</td>\n",
              "      <td>310155.0</td>\n",
              "      <td>187432</td>\n",
              "      <td>5981.0</td>\n",
              "      <td>62620</td>\n",
              "      <td>496</td>\n",
              "      <td>Sussex</td>\n",
              "      <td>16.10</td>\n",
              "    </tr>\n",
              "    <tr>\n",
              "      <th>7</th>\n",
              "      <td>09-2020</td>\n",
              "      <td>300150.0</td>\n",
              "      <td>196627</td>\n",
              "      <td>5997.0</td>\n",
              "      <td>60600</td>\n",
              "      <td>465</td>\n",
              "      <td>Sussex</td>\n",
              "      <td>4.91</td>\n",
              "    </tr>\n",
              "    <tr>\n",
              "      <th>8</th>\n",
              "      <td>10-2020</td>\n",
              "      <td>310155.0</td>\n",
              "      <td>230583</td>\n",
              "      <td>6691.0</td>\n",
              "      <td>62620</td>\n",
              "      <td>496</td>\n",
              "      <td>Sussex</td>\n",
              "      <td>17.27</td>\n",
              "    </tr>\n",
              "    <tr>\n",
              "      <th>9</th>\n",
              "      <td>11-2020</td>\n",
              "      <td>300150.0</td>\n",
              "      <td>274761</td>\n",
              "      <td>7452.0</td>\n",
              "      <td>60600</td>\n",
              "      <td>465</td>\n",
              "      <td>Sussex</td>\n",
              "      <td>19.16</td>\n",
              "    </tr>\n",
              "    <tr>\n",
              "      <th>10</th>\n",
              "      <td>12-2020</td>\n",
              "      <td>310155.0</td>\n",
              "      <td>395289</td>\n",
              "      <td>8616.0</td>\n",
              "      <td>62620</td>\n",
              "      <td>496</td>\n",
              "      <td>Sussex</td>\n",
              "      <td>43.87</td>\n",
              "    </tr>\n",
              "  </tbody>\n",
              "</table>\n",
              "</div>"
            ],
            "text/plain": [
              "   Month_Year      fips   cases  ...  day  county  Cases_Growth_Percentage\n",
              "0     01-2021  210105.0  363208  ...  231  Sussex                    -8.12\n",
              "1     03-2020  150075.0     468  ...  360  Sussex                      NaN\n",
              "2     04-2020  300150.0   25836  ...  465  Sussex                  5420.51\n",
              "3     05-2020  310155.0  107939  ...  496  Sussex                   317.79\n",
              "4     06-2020  300150.0  133075  ...  465  Sussex                    23.29\n",
              "5     07-2020  310155.0  161438  ...  496  Sussex                    21.31\n",
              "6     08-2020  310155.0  187432  ...  496  Sussex                    16.10\n",
              "7     09-2020  300150.0  196627  ...  465  Sussex                     4.91\n",
              "8     10-2020  310155.0  230583  ...  496  Sussex                    17.27\n",
              "9     11-2020  300150.0  274761  ...  465  Sussex                    19.16\n",
              "10    12-2020  310155.0  395289  ...  496  Sussex                    43.87\n",
              "\n",
              "[11 rows x 8 columns]"
            ]
          },
          "metadata": {
            "tags": []
          },
          "execution_count": 173
        }
      ]
    },
    {
      "cell_type": "code",
      "metadata": {
        "colab": {
          "base_uri": "https://localhost:8080/",
          "height": 387
        },
        "id": "AAs25PrQBfcV",
        "outputId": "5085c0f2-c0f4-4e2a-febb-a5ab223a8653"
      },
      "source": [
        "# Creating the death growth percent column\r\n",
        "\r\n",
        "temp_list2 = growth(Sussex_Months['deaths'])\r\n",
        "fixed_growth(temp_list2, Sussex_Months, 'Death_Growth_Percentage')\r\n",
        "\r\n",
        "\r\n",
        "Sussex_Months"
      ],
      "execution_count": 174,
      "outputs": [
        {
          "output_type": "execute_result",
          "data": {
            "text/html": [
              "<div>\n",
              "<style scoped>\n",
              "    .dataframe tbody tr th:only-of-type {\n",
              "        vertical-align: middle;\n",
              "    }\n",
              "\n",
              "    .dataframe tbody tr th {\n",
              "        vertical-align: top;\n",
              "    }\n",
              "\n",
              "    .dataframe thead th {\n",
              "        text-align: right;\n",
              "    }\n",
              "</style>\n",
              "<table border=\"1\" class=\"dataframe\">\n",
              "  <thead>\n",
              "    <tr style=\"text-align: right;\">\n",
              "      <th></th>\n",
              "      <th>Month_Year</th>\n",
              "      <th>fips</th>\n",
              "      <th>cases</th>\n",
              "      <th>deaths</th>\n",
              "      <th>Year</th>\n",
              "      <th>day</th>\n",
              "      <th>county</th>\n",
              "      <th>Cases_Growth_Percentage</th>\n",
              "      <th>Death_Growth_Percentage</th>\n",
              "    </tr>\n",
              "  </thead>\n",
              "  <tbody>\n",
              "    <tr>\n",
              "      <th>0</th>\n",
              "      <td>01-2021</td>\n",
              "      <td>210105.0</td>\n",
              "      <td>363208</td>\n",
              "      <td>6544.0</td>\n",
              "      <td>42441</td>\n",
              "      <td>231</td>\n",
              "      <td>Sussex</td>\n",
              "      <td>-8.12</td>\n",
              "      <td>-24.05</td>\n",
              "    </tr>\n",
              "    <tr>\n",
              "      <th>1</th>\n",
              "      <td>03-2020</td>\n",
              "      <td>150075.0</td>\n",
              "      <td>468</td>\n",
              "      <td>8.0</td>\n",
              "      <td>30300</td>\n",
              "      <td>360</td>\n",
              "      <td>Sussex</td>\n",
              "      <td>NaN</td>\n",
              "      <td>-99.88</td>\n",
              "    </tr>\n",
              "    <tr>\n",
              "      <th>2</th>\n",
              "      <td>04-2020</td>\n",
              "      <td>300150.0</td>\n",
              "      <td>25836</td>\n",
              "      <td>668.0</td>\n",
              "      <td>60600</td>\n",
              "      <td>465</td>\n",
              "      <td>Sussex</td>\n",
              "      <td>5420.51</td>\n",
              "      <td>8250.00</td>\n",
              "    </tr>\n",
              "    <tr>\n",
              "      <th>3</th>\n",
              "      <td>05-2020</td>\n",
              "      <td>310155.0</td>\n",
              "      <td>107939</td>\n",
              "      <td>3206.0</td>\n",
              "      <td>62620</td>\n",
              "      <td>496</td>\n",
              "      <td>Sussex</td>\n",
              "      <td>317.79</td>\n",
              "      <td>379.94</td>\n",
              "    </tr>\n",
              "    <tr>\n",
              "      <th>4</th>\n",
              "      <td>06-2020</td>\n",
              "      <td>300150.0</td>\n",
              "      <td>133075</td>\n",
              "      <td>4648.0</td>\n",
              "      <td>60600</td>\n",
              "      <td>465</td>\n",
              "      <td>Sussex</td>\n",
              "      <td>23.29</td>\n",
              "      <td>44.98</td>\n",
              "    </tr>\n",
              "    <tr>\n",
              "      <th>5</th>\n",
              "      <td>07-2020</td>\n",
              "      <td>310155.0</td>\n",
              "      <td>161438</td>\n",
              "      <td>5586.0</td>\n",
              "      <td>62620</td>\n",
              "      <td>496</td>\n",
              "      <td>Sussex</td>\n",
              "      <td>21.31</td>\n",
              "      <td>20.18</td>\n",
              "    </tr>\n",
              "    <tr>\n",
              "      <th>6</th>\n",
              "      <td>08-2020</td>\n",
              "      <td>310155.0</td>\n",
              "      <td>187432</td>\n",
              "      <td>5981.0</td>\n",
              "      <td>62620</td>\n",
              "      <td>496</td>\n",
              "      <td>Sussex</td>\n",
              "      <td>16.10</td>\n",
              "      <td>7.07</td>\n",
              "    </tr>\n",
              "    <tr>\n",
              "      <th>7</th>\n",
              "      <td>09-2020</td>\n",
              "      <td>300150.0</td>\n",
              "      <td>196627</td>\n",
              "      <td>5997.0</td>\n",
              "      <td>60600</td>\n",
              "      <td>465</td>\n",
              "      <td>Sussex</td>\n",
              "      <td>4.91</td>\n",
              "      <td>0.27</td>\n",
              "    </tr>\n",
              "    <tr>\n",
              "      <th>8</th>\n",
              "      <td>10-2020</td>\n",
              "      <td>310155.0</td>\n",
              "      <td>230583</td>\n",
              "      <td>6691.0</td>\n",
              "      <td>62620</td>\n",
              "      <td>496</td>\n",
              "      <td>Sussex</td>\n",
              "      <td>17.27</td>\n",
              "      <td>11.57</td>\n",
              "    </tr>\n",
              "    <tr>\n",
              "      <th>9</th>\n",
              "      <td>11-2020</td>\n",
              "      <td>300150.0</td>\n",
              "      <td>274761</td>\n",
              "      <td>7452.0</td>\n",
              "      <td>60600</td>\n",
              "      <td>465</td>\n",
              "      <td>Sussex</td>\n",
              "      <td>19.16</td>\n",
              "      <td>11.37</td>\n",
              "    </tr>\n",
              "    <tr>\n",
              "      <th>10</th>\n",
              "      <td>12-2020</td>\n",
              "      <td>310155.0</td>\n",
              "      <td>395289</td>\n",
              "      <td>8616.0</td>\n",
              "      <td>62620</td>\n",
              "      <td>496</td>\n",
              "      <td>Sussex</td>\n",
              "      <td>43.87</td>\n",
              "      <td>15.62</td>\n",
              "    </tr>\n",
              "  </tbody>\n",
              "</table>\n",
              "</div>"
            ],
            "text/plain": [
              "   Month_Year      fips  ...  Cases_Growth_Percentage  Death_Growth_Percentage\n",
              "0     01-2021  210105.0  ...                    -8.12                   -24.05\n",
              "1     03-2020  150075.0  ...                      NaN                   -99.88\n",
              "2     04-2020  300150.0  ...                  5420.51                  8250.00\n",
              "3     05-2020  310155.0  ...                   317.79                   379.94\n",
              "4     06-2020  300150.0  ...                    23.29                    44.98\n",
              "5     07-2020  310155.0  ...                    21.31                    20.18\n",
              "6     08-2020  310155.0  ...                    16.10                     7.07\n",
              "7     09-2020  300150.0  ...                     4.91                     0.27\n",
              "8     10-2020  310155.0  ...                    17.27                    11.57\n",
              "9     11-2020  300150.0  ...                    19.16                    11.37\n",
              "10    12-2020  310155.0  ...                    43.87                    15.62\n",
              "\n",
              "[11 rows x 9 columns]"
            ]
          },
          "metadata": {
            "tags": []
          },
          "execution_count": 174
        }
      ]
    },
    {
      "cell_type": "code",
      "metadata": {
        "colab": {
          "base_uri": "https://localhost:8080/",
          "height": 473
        },
        "id": "C34xcZgFyz1l",
        "outputId": "9311b9d5-956d-4d1e-f818-18e4a36e9220"
      },
      "source": [
        "# Making the first month reported growth value into NaN\r\n",
        "Sussex_Months['Death_Growth_Percentage'].iloc[1] = np.nan\r\n",
        "\r\n",
        "Sussex_Months"
      ],
      "execution_count": 175,
      "outputs": [
        {
          "output_type": "stream",
          "text": [
            "/usr/local/lib/python3.6/dist-packages/pandas/core/indexing.py:670: SettingWithCopyWarning: \n",
            "A value is trying to be set on a copy of a slice from a DataFrame\n",
            "\n",
            "See the caveats in the documentation: https://pandas.pydata.org/pandas-docs/stable/user_guide/indexing.html#returning-a-view-versus-a-copy\n",
            "  iloc._setitem_with_indexer(indexer, value)\n"
          ],
          "name": "stderr"
        },
        {
          "output_type": "execute_result",
          "data": {
            "text/html": [
              "<div>\n",
              "<style scoped>\n",
              "    .dataframe tbody tr th:only-of-type {\n",
              "        vertical-align: middle;\n",
              "    }\n",
              "\n",
              "    .dataframe tbody tr th {\n",
              "        vertical-align: top;\n",
              "    }\n",
              "\n",
              "    .dataframe thead th {\n",
              "        text-align: right;\n",
              "    }\n",
              "</style>\n",
              "<table border=\"1\" class=\"dataframe\">\n",
              "  <thead>\n",
              "    <tr style=\"text-align: right;\">\n",
              "      <th></th>\n",
              "      <th>Month_Year</th>\n",
              "      <th>fips</th>\n",
              "      <th>cases</th>\n",
              "      <th>deaths</th>\n",
              "      <th>Year</th>\n",
              "      <th>day</th>\n",
              "      <th>county</th>\n",
              "      <th>Cases_Growth_Percentage</th>\n",
              "      <th>Death_Growth_Percentage</th>\n",
              "    </tr>\n",
              "  </thead>\n",
              "  <tbody>\n",
              "    <tr>\n",
              "      <th>0</th>\n",
              "      <td>01-2021</td>\n",
              "      <td>210105.0</td>\n",
              "      <td>363208</td>\n",
              "      <td>6544.0</td>\n",
              "      <td>42441</td>\n",
              "      <td>231</td>\n",
              "      <td>Sussex</td>\n",
              "      <td>-8.12</td>\n",
              "      <td>-24.05</td>\n",
              "    </tr>\n",
              "    <tr>\n",
              "      <th>1</th>\n",
              "      <td>03-2020</td>\n",
              "      <td>150075.0</td>\n",
              "      <td>468</td>\n",
              "      <td>8.0</td>\n",
              "      <td>30300</td>\n",
              "      <td>360</td>\n",
              "      <td>Sussex</td>\n",
              "      <td>NaN</td>\n",
              "      <td>NaN</td>\n",
              "    </tr>\n",
              "    <tr>\n",
              "      <th>2</th>\n",
              "      <td>04-2020</td>\n",
              "      <td>300150.0</td>\n",
              "      <td>25836</td>\n",
              "      <td>668.0</td>\n",
              "      <td>60600</td>\n",
              "      <td>465</td>\n",
              "      <td>Sussex</td>\n",
              "      <td>5420.51</td>\n",
              "      <td>8250.00</td>\n",
              "    </tr>\n",
              "    <tr>\n",
              "      <th>3</th>\n",
              "      <td>05-2020</td>\n",
              "      <td>310155.0</td>\n",
              "      <td>107939</td>\n",
              "      <td>3206.0</td>\n",
              "      <td>62620</td>\n",
              "      <td>496</td>\n",
              "      <td>Sussex</td>\n",
              "      <td>317.79</td>\n",
              "      <td>379.94</td>\n",
              "    </tr>\n",
              "    <tr>\n",
              "      <th>4</th>\n",
              "      <td>06-2020</td>\n",
              "      <td>300150.0</td>\n",
              "      <td>133075</td>\n",
              "      <td>4648.0</td>\n",
              "      <td>60600</td>\n",
              "      <td>465</td>\n",
              "      <td>Sussex</td>\n",
              "      <td>23.29</td>\n",
              "      <td>44.98</td>\n",
              "    </tr>\n",
              "    <tr>\n",
              "      <th>5</th>\n",
              "      <td>07-2020</td>\n",
              "      <td>310155.0</td>\n",
              "      <td>161438</td>\n",
              "      <td>5586.0</td>\n",
              "      <td>62620</td>\n",
              "      <td>496</td>\n",
              "      <td>Sussex</td>\n",
              "      <td>21.31</td>\n",
              "      <td>20.18</td>\n",
              "    </tr>\n",
              "    <tr>\n",
              "      <th>6</th>\n",
              "      <td>08-2020</td>\n",
              "      <td>310155.0</td>\n",
              "      <td>187432</td>\n",
              "      <td>5981.0</td>\n",
              "      <td>62620</td>\n",
              "      <td>496</td>\n",
              "      <td>Sussex</td>\n",
              "      <td>16.10</td>\n",
              "      <td>7.07</td>\n",
              "    </tr>\n",
              "    <tr>\n",
              "      <th>7</th>\n",
              "      <td>09-2020</td>\n",
              "      <td>300150.0</td>\n",
              "      <td>196627</td>\n",
              "      <td>5997.0</td>\n",
              "      <td>60600</td>\n",
              "      <td>465</td>\n",
              "      <td>Sussex</td>\n",
              "      <td>4.91</td>\n",
              "      <td>0.27</td>\n",
              "    </tr>\n",
              "    <tr>\n",
              "      <th>8</th>\n",
              "      <td>10-2020</td>\n",
              "      <td>310155.0</td>\n",
              "      <td>230583</td>\n",
              "      <td>6691.0</td>\n",
              "      <td>62620</td>\n",
              "      <td>496</td>\n",
              "      <td>Sussex</td>\n",
              "      <td>17.27</td>\n",
              "      <td>11.57</td>\n",
              "    </tr>\n",
              "    <tr>\n",
              "      <th>9</th>\n",
              "      <td>11-2020</td>\n",
              "      <td>300150.0</td>\n",
              "      <td>274761</td>\n",
              "      <td>7452.0</td>\n",
              "      <td>60600</td>\n",
              "      <td>465</td>\n",
              "      <td>Sussex</td>\n",
              "      <td>19.16</td>\n",
              "      <td>11.37</td>\n",
              "    </tr>\n",
              "    <tr>\n",
              "      <th>10</th>\n",
              "      <td>12-2020</td>\n",
              "      <td>310155.0</td>\n",
              "      <td>395289</td>\n",
              "      <td>8616.0</td>\n",
              "      <td>62620</td>\n",
              "      <td>496</td>\n",
              "      <td>Sussex</td>\n",
              "      <td>43.87</td>\n",
              "      <td>15.62</td>\n",
              "    </tr>\n",
              "  </tbody>\n",
              "</table>\n",
              "</div>"
            ],
            "text/plain": [
              "   Month_Year      fips  ...  Cases_Growth_Percentage  Death_Growth_Percentage\n",
              "0     01-2021  210105.0  ...                    -8.12                   -24.05\n",
              "1     03-2020  150075.0  ...                      NaN                      NaN\n",
              "2     04-2020  300150.0  ...                  5420.51                  8250.00\n",
              "3     05-2020  310155.0  ...                   317.79                   379.94\n",
              "4     06-2020  300150.0  ...                    23.29                    44.98\n",
              "5     07-2020  310155.0  ...                    21.31                    20.18\n",
              "6     08-2020  310155.0  ...                    16.10                     7.07\n",
              "7     09-2020  300150.0  ...                     4.91                     0.27\n",
              "8     10-2020  310155.0  ...                    17.27                    11.57\n",
              "9     11-2020  300150.0  ...                    19.16                    11.37\n",
              "10    12-2020  310155.0  ...                    43.87                    15.62\n",
              "\n",
              "[11 rows x 9 columns]"
            ]
          },
          "metadata": {
            "tags": []
          },
          "execution_count": 175
        }
      ]
    },
    {
      "cell_type": "markdown",
      "metadata": {
        "id": "2KQD23BVR0Ue"
      },
      "source": [
        "#"
      ]
    },
    {
      "cell_type": "code",
      "metadata": {
        "colab": {
          "base_uri": "https://localhost:8080/",
          "height": 362
        },
        "id": "1nwmjiINEhzh",
        "outputId": "7c190cfd-c93b-483d-f6cc-dab074b1c36c"
      },
      "source": [
        "sns.lineplot(x = 'Month_Year', y = 'Cases_Growth_Percentage', data = Sussex_Months).set_title('Sussex Cases Growth Percentage')\r\n",
        "\r\n",
        "plt.xticks(rotation=45, ha='right')\r\n",
        "\r\n",
        "plt.show()"
      ],
      "execution_count": 176,
      "outputs": [
        {
          "output_type": "display_data",
          "data": {
            "image/png": "[encoded data removed]",
            "text/plain": [
              "<Figure size 432x288 with 1 Axes>"
            ]
          },
          "metadata": {
            "tags": []
          }
        }
      ]
    },
    {
      "cell_type": "code",
      "metadata": {
        "colab": {
          "base_uri": "https://localhost:8080/",
          "height": 362
        },
        "id": "MFOG0-THHDcA",
        "outputId": "62d07d9c-2711-4250-e4e8-e1cd04581bc5"
      },
      "source": [
        "sns.lineplot(x = 'Month_Year', y = 'Death_Growth_Percentage', data = Sussex_Months).set_title('Sussex deaths Growth Percentage')\r\n",
        "\r\n",
        "plt.xticks(rotation=45, ha='right')\r\n",
        "\r\n",
        "plt.show()"
      ],
      "execution_count": 177,
      "outputs": [
        {
          "output_type": "display_data",
          "data": {
            "image/png": "[encoded data removed]",
            "text/plain": [
              "<Figure size 432x288 with 1 Axes>"
            ]
          },
          "metadata": {
            "tags": []
          }
        }
      ]
    },
    {
      "cell_type": "markdown",
      "metadata": {
        "id": "BYMJyCQB3lat"
      },
      "source": [
        "####Judging from our data I see that the month of June growth percentage per month has leveled out compared to the high peaks at the beginning of the virus spread in Sussex."
      ]
    },
    {
      "cell_type": "markdown",
      "metadata": {
        "id": "lU9sEXCtBiuW"
      },
      "source": [
        "#Taking the average from all of the previous months case & deaths growth rate\r\n",
        "###I decided to start the average computation from June rather than March because of the extremely high value would skewe my prediction.\r\n"
      ]
    },
    {
      "cell_type": "code",
      "metadata": {
        "colab": {
          "base_uri": "https://localhost:8080/"
        },
        "id": "rtW8rHPGBBGC",
        "outputId": "f750c9eb-2951-4840-d0fb-ff120ffe67ba"
      },
      "source": [
        "# Using the mean() to calculate the mean for the selected columns and rows\r\n",
        "\r\n",
        "Avg_case_growth = (Sussex_Months['Cases_Growth_Percentage'].iloc[4:]/100).mean()\r\n",
        "Avg_death_growth = (Sussex_Months['Death_Growth_Percentage'].iloc[4:]/100).mean()\r\n",
        "\r\n",
        "\r\n",
        "print(f'The average case growth per-month is {round(Avg_case_growth * 100,2)}%')\r\n",
        "print(f'The average death growth per-month is {round(Avg_death_growth * 100,2)}%')"
      ],
      "execution_count": 178,
      "outputs": [
        {
          "output_type": "stream",
          "text": [
            "The average case growth per-month is 20.84%\n",
            "The average death growth per-month is 15.87%\n"
          ],
          "name": "stdout"
        }
      ]
    },
    {
      "cell_type": "code",
      "metadata": {
        "colab": {
          "base_uri": "https://localhost:8080/"
        },
        "id": "ZRJEph4wDGQK",
        "outputId": "daf2960e-694f-4c86-9be9-2238ae4ff429"
      },
      "source": [
        "# Computing the possible increase of cases and deaths by multiplying it to Dec totals\r\n",
        "\r\n",
        "Jan_cases = round(Sussex_maxCases * (1 + Avg_case_growth))\r\n",
        "Jan_deaths = round(Sussex_maxDeath * (1 + Avg_death_growth))\r\n",
        "\r\n",
        "print(f'The estimated total cases for the current month of Jan-2021 is approximately: {Jan_cases}%')\r\n",
        "print()\r\n",
        "print(f'The estimated total deaths for the current month of Jan-2021 is approximately: {Jan_deaths}%')\r\n"
      ],
      "execution_count": 179,
      "outputs": [
        {
          "output_type": "stream",
          "text": [
            "The estimated total cases for the current month of Jan-2021 is approximately: 477684%\n",
            "\n",
            "The estimated total deaths for the current month of Jan-2021 is approximately: 9983%\n"
          ],
          "name": "stdout"
        }
      ]
    },
    {
      "cell_type": "code",
      "metadata": {
        "colab": {
          "base_uri": "https://localhost:8080/",
          "height": 387
        },
        "id": "GE5q2gR09Faf",
        "outputId": "610ce627-3393-4315-eb39-aba5fc564c95"
      },
      "source": [
        "Sussex_Months"
      ],
      "execution_count": 180,
      "outputs": [
        {
          "output_type": "execute_result",
          "data": {
            "text/html": [
              "<div>\n",
              "<style scoped>\n",
              "    .dataframe tbody tr th:only-of-type {\n",
              "        vertical-align: middle;\n",
              "    }\n",
              "\n",
              "    .dataframe tbody tr th {\n",
              "        vertical-align: top;\n",
              "    }\n",
              "\n",
              "    .dataframe thead th {\n",
              "        text-align: right;\n",
              "    }\n",
              "</style>\n",
              "<table border=\"1\" class=\"dataframe\">\n",
              "  <thead>\n",
              "    <tr style=\"text-align: right;\">\n",
              "      <th></th>\n",
              "      <th>Month_Year</th>\n",
              "      <th>fips</th>\n",
              "      <th>cases</th>\n",
              "      <th>deaths</th>\n",
              "      <th>Year</th>\n",
              "      <th>day</th>\n",
              "      <th>county</th>\n",
              "      <th>Cases_Growth_Percentage</th>\n",
              "      <th>Death_Growth_Percentage</th>\n",
              "    </tr>\n",
              "  </thead>\n",
              "  <tbody>\n",
              "    <tr>\n",
              "      <th>0</th>\n",
              "      <td>01-2021</td>\n",
              "      <td>210105.0</td>\n",
              "      <td>363208</td>\n",
              "      <td>6544.0</td>\n",
              "      <td>42441</td>\n",
              "      <td>231</td>\n",
              "      <td>Sussex</td>\n",
              "      <td>-8.12</td>\n",
              "      <td>-24.05</td>\n",
              "    </tr>\n",
              "    <tr>\n",
              "      <th>1</th>\n",
              "      <td>03-2020</td>\n",
              "      <td>150075.0</td>\n",
              "      <td>468</td>\n",
              "      <td>8.0</td>\n",
              "      <td>30300</td>\n",
              "      <td>360</td>\n",
              "      <td>Sussex</td>\n",
              "      <td>NaN</td>\n",
              "      <td>NaN</td>\n",
              "    </tr>\n",
              "    <tr>\n",
              "      <th>2</th>\n",
              "      <td>04-2020</td>\n",
              "      <td>300150.0</td>\n",
              "      <td>25836</td>\n",
              "      <td>668.0</td>\n",
              "      <td>60600</td>\n",
              "      <td>465</td>\n",
              "      <td>Sussex</td>\n",
              "      <td>5420.51</td>\n",
              "      <td>8250.00</td>\n",
              "    </tr>\n",
              "    <tr>\n",
              "      <th>3</th>\n",
              "      <td>05-2020</td>\n",
              "      <td>310155.0</td>\n",
              "      <td>107939</td>\n",
              "      <td>3206.0</td>\n",
              "      <td>62620</td>\n",
              "      <td>496</td>\n",
              "      <td>Sussex</td>\n",
              "      <td>317.79</td>\n",
              "      <td>379.94</td>\n",
              "    </tr>\n",
              "    <tr>\n",
              "      <th>4</th>\n",
              "      <td>06-2020</td>\n",
              "      <td>300150.0</td>\n",
              "      <td>133075</td>\n",
              "      <td>4648.0</td>\n",
              "      <td>60600</td>\n",
              "      <td>465</td>\n",
              "      <td>Sussex</td>\n",
              "      <td>23.29</td>\n",
              "      <td>44.98</td>\n",
              "    </tr>\n",
              "    <tr>\n",
              "      <th>5</th>\n",
              "      <td>07-2020</td>\n",
              "      <td>310155.0</td>\n",
              "      <td>161438</td>\n",
              "      <td>5586.0</td>\n",
              "      <td>62620</td>\n",
              "      <td>496</td>\n",
              "      <td>Sussex</td>\n",
              "      <td>21.31</td>\n",
              "      <td>20.18</td>\n",
              "    </tr>\n",
              "    <tr>\n",
              "      <th>6</th>\n",
              "      <td>08-2020</td>\n",
              "      <td>310155.0</td>\n",
              "      <td>187432</td>\n",
              "      <td>5981.0</td>\n",
              "      <td>62620</td>\n",
              "      <td>496</td>\n",
              "      <td>Sussex</td>\n",
              "      <td>16.10</td>\n",
              "      <td>7.07</td>\n",
              "    </tr>\n",
              "    <tr>\n",
              "      <th>7</th>\n",
              "      <td>09-2020</td>\n",
              "      <td>300150.0</td>\n",
              "      <td>196627</td>\n",
              "      <td>5997.0</td>\n",
              "      <td>60600</td>\n",
              "      <td>465</td>\n",
              "      <td>Sussex</td>\n",
              "      <td>4.91</td>\n",
              "      <td>0.27</td>\n",
              "    </tr>\n",
              "    <tr>\n",
              "      <th>8</th>\n",
              "      <td>10-2020</td>\n",
              "      <td>310155.0</td>\n",
              "      <td>230583</td>\n",
              "      <td>6691.0</td>\n",
              "      <td>62620</td>\n",
              "      <td>496</td>\n",
              "      <td>Sussex</td>\n",
              "      <td>17.27</td>\n",
              "      <td>11.57</td>\n",
              "    </tr>\n",
              "    <tr>\n",
              "      <th>9</th>\n",
              "      <td>11-2020</td>\n",
              "      <td>300150.0</td>\n",
              "      <td>274761</td>\n",
              "      <td>7452.0</td>\n",
              "      <td>60600</td>\n",
              "      <td>465</td>\n",
              "      <td>Sussex</td>\n",
              "      <td>19.16</td>\n",
              "      <td>11.37</td>\n",
              "    </tr>\n",
              "    <tr>\n",
              "      <th>10</th>\n",
              "      <td>12-2020</td>\n",
              "      <td>310155.0</td>\n",
              "      <td>395289</td>\n",
              "      <td>8616.0</td>\n",
              "      <td>62620</td>\n",
              "      <td>496</td>\n",
              "      <td>Sussex</td>\n",
              "      <td>43.87</td>\n",
              "      <td>15.62</td>\n",
              "    </tr>\n",
              "  </tbody>\n",
              "</table>\n",
              "</div>"
            ],
            "text/plain": [
              "   Month_Year      fips  ...  Cases_Growth_Percentage  Death_Growth_Percentage\n",
              "0     01-2021  210105.0  ...                    -8.12                   -24.05\n",
              "1     03-2020  150075.0  ...                      NaN                      NaN\n",
              "2     04-2020  300150.0  ...                  5420.51                  8250.00\n",
              "3     05-2020  310155.0  ...                   317.79                   379.94\n",
              "4     06-2020  300150.0  ...                    23.29                    44.98\n",
              "5     07-2020  310155.0  ...                    21.31                    20.18\n",
              "6     08-2020  310155.0  ...                    16.10                     7.07\n",
              "7     09-2020  300150.0  ...                     4.91                     0.27\n",
              "8     10-2020  310155.0  ...                    17.27                    11.57\n",
              "9     11-2020  300150.0  ...                    19.16                    11.37\n",
              "10    12-2020  310155.0  ...                    43.87                    15.62\n",
              "\n",
              "[11 rows x 9 columns]"
            ]
          },
          "metadata": {
            "tags": []
          },
          "execution_count": 180
        }
      ]
    },
    {
      "cell_type": "markdown",
      "metadata": {
        "id": "hzYsA1e1JvCz"
      },
      "source": [
        "#What do we know about Sussex?\r\n",
        "\r\n",
        "* Since June they have been slowly trend up with cases and deaths\r\n",
        "* The month of September was the month with the least amount of cases and deaths\r\n",
        "* The data has an upward trend in cases and deaths since it’s lowest month September.\r\n",
        "* Currently the December has the highest cases with 395,289 cases and the highest deaths 8,616\r\n",
        "* Given the Average growth percentage for the months June-December, Jan 2021 may end with approximately  477,684 cases and 9,983 deaths."
      ]
    },
    {
      "cell_type": "markdown",
      "metadata": {
        "id": "U5onfk06KWxj"
      },
      "source": [
        "#Kent county\r\n",
        "#### Kent is the county right above Sussex county. The capital city of Delaware is Dover, which reside's in Kent county. I think it would be interesting to compare the data between the two counties.\r\n",
        "\r\n",
        "\r\n",
        "   \r\n"
      ]
    },
    {
      "cell_type": "code",
      "metadata": {
        "colab": {
          "base_uri": "https://localhost:8080/",
          "height": 417
        },
        "id": "cUPavMu-J0ko",
        "outputId": "23c5fa1e-7392-4bb9-c703-d4c102880bc8"
      },
      "source": [
        "#Creating the Kent county dataframe from the Delaware state\r\n",
        "Kent_county = Delaware_state.query('county == [\"Kent\"]')\r\n",
        "Kent_county"
      ],
      "execution_count": 181,
      "outputs": [
        {
          "output_type": "execute_result",
          "data": {
            "text/html": [
              "<div>\n",
              "<style scoped>\n",
              "    .dataframe tbody tr th:only-of-type {\n",
              "        vertical-align: middle;\n",
              "    }\n",
              "\n",
              "    .dataframe tbody tr th {\n",
              "        vertical-align: top;\n",
              "    }\n",
              "\n",
              "    .dataframe thead th {\n",
              "        text-align: right;\n",
              "    }\n",
              "</style>\n",
              "<table border=\"1\" class=\"dataframe\">\n",
              "  <thead>\n",
              "    <tr style=\"text-align: right;\">\n",
              "      <th></th>\n",
              "      <th>date</th>\n",
              "      <th>county</th>\n",
              "      <th>state</th>\n",
              "      <th>fips</th>\n",
              "      <th>cases</th>\n",
              "      <th>deaths</th>\n",
              "    </tr>\n",
              "  </thead>\n",
              "  <tbody>\n",
              "    <tr>\n",
              "      <th>3850</th>\n",
              "      <td>2020-03-18</td>\n",
              "      <td>Kent</td>\n",
              "      <td>Delaware</td>\n",
              "      <td>10001.0</td>\n",
              "      <td>3</td>\n",
              "      <td>0.0</td>\n",
              "    </tr>\n",
              "    <tr>\n",
              "      <th>4515</th>\n",
              "      <td>2020-03-19</td>\n",
              "      <td>Kent</td>\n",
              "      <td>Delaware</td>\n",
              "      <td>10001.0</td>\n",
              "      <td>4</td>\n",
              "      <td>0.0</td>\n",
              "    </tr>\n",
              "    <tr>\n",
              "      <th>5294</th>\n",
              "      <td>2020-03-20</td>\n",
              "      <td>Kent</td>\n",
              "      <td>Delaware</td>\n",
              "      <td>10001.0</td>\n",
              "      <td>4</td>\n",
              "      <td>0.0</td>\n",
              "    </tr>\n",
              "    <tr>\n",
              "      <th>6221</th>\n",
              "      <td>2020-03-21</td>\n",
              "      <td>Kent</td>\n",
              "      <td>Delaware</td>\n",
              "      <td>10001.0</td>\n",
              "      <td>5</td>\n",
              "      <td>0.0</td>\n",
              "    </tr>\n",
              "    <tr>\n",
              "      <th>7257</th>\n",
              "      <td>2020-03-22</td>\n",
              "      <td>Kent</td>\n",
              "      <td>Delaware</td>\n",
              "      <td>10001.0</td>\n",
              "      <td>5</td>\n",
              "      <td>0.0</td>\n",
              "    </tr>\n",
              "    <tr>\n",
              "      <th>...</th>\n",
              "      <td>...</td>\n",
              "      <td>...</td>\n",
              "      <td>...</td>\n",
              "      <td>...</td>\n",
              "      <td>...</td>\n",
              "      <td>...</td>\n",
              "    </tr>\n",
              "    <tr>\n",
              "      <th>937060</th>\n",
              "      <td>2021-01-17</td>\n",
              "      <td>Kent</td>\n",
              "      <td>Delaware</td>\n",
              "      <td>10001.0</td>\n",
              "      <td>11363</td>\n",
              "      <td>187.0</td>\n",
              "    </tr>\n",
              "    <tr>\n",
              "      <th>940305</th>\n",
              "      <td>2021-01-18</td>\n",
              "      <td>Kent</td>\n",
              "      <td>Delaware</td>\n",
              "      <td>10001.0</td>\n",
              "      <td>11487</td>\n",
              "      <td>187.0</td>\n",
              "    </tr>\n",
              "    <tr>\n",
              "      <th>943550</th>\n",
              "      <td>2021-01-19</td>\n",
              "      <td>Kent</td>\n",
              "      <td>Delaware</td>\n",
              "      <td>10001.0</td>\n",
              "      <td>11548</td>\n",
              "      <td>187.0</td>\n",
              "    </tr>\n",
              "    <tr>\n",
              "      <th>946797</th>\n",
              "      <td>2021-01-20</td>\n",
              "      <td>Kent</td>\n",
              "      <td>Delaware</td>\n",
              "      <td>10001.0</td>\n",
              "      <td>11620</td>\n",
              "      <td>187.0</td>\n",
              "    </tr>\n",
              "    <tr>\n",
              "      <th>950043</th>\n",
              "      <td>2021-01-21</td>\n",
              "      <td>Kent</td>\n",
              "      <td>Delaware</td>\n",
              "      <td>10001.0</td>\n",
              "      <td>11737</td>\n",
              "      <td>187.0</td>\n",
              "    </tr>\n",
              "  </tbody>\n",
              "</table>\n",
              "<p>310 rows × 6 columns</p>\n",
              "</div>"
            ],
            "text/plain": [
              "             date county     state     fips  cases  deaths\n",
              "3850   2020-03-18   Kent  Delaware  10001.0      3     0.0\n",
              "4515   2020-03-19   Kent  Delaware  10001.0      4     0.0\n",
              "5294   2020-03-20   Kent  Delaware  10001.0      4     0.0\n",
              "6221   2020-03-21   Kent  Delaware  10001.0      5     0.0\n",
              "7257   2020-03-22   Kent  Delaware  10001.0      5     0.0\n",
              "...           ...    ...       ...      ...    ...     ...\n",
              "937060 2021-01-17   Kent  Delaware  10001.0  11363   187.0\n",
              "940305 2021-01-18   Kent  Delaware  10001.0  11487   187.0\n",
              "943550 2021-01-19   Kent  Delaware  10001.0  11548   187.0\n",
              "946797 2021-01-20   Kent  Delaware  10001.0  11620   187.0\n",
              "950043 2021-01-21   Kent  Delaware  10001.0  11737   187.0\n",
              "\n",
              "[310 rows x 6 columns]"
            ]
          },
          "metadata": {
            "tags": []
          },
          "execution_count": 181
        }
      ]
    },
    {
      "cell_type": "markdown",
      "metadata": {
        "id": "o4KLelMeHNME"
      },
      "source": [
        "#Let's see how the data is trending"
      ]
    },
    {
      "cell_type": "code",
      "metadata": {
        "colab": {
          "base_uri": "https://localhost:8080/",
          "height": 361
        },
        "id": "bIub0VhXLpla",
        "outputId": "20880e97-fb40-412e-98e6-d63243aafe19"
      },
      "source": [
        "Kent_plot = sns.lineplot(x = 'date', y = 'cases', data = Kent_county).set_title('Kent County Cases')\r\n",
        "\r\n",
        "plt.xticks(rotation=45, ha='right')\r\n",
        "\r\n",
        "plt.show()"
      ],
      "execution_count": 182,
      "outputs": [
        {
          "output_type": "display_data",
          "data": {
            "image/png": "[encoded data removed]",
            "text/plain": [
              "<Figure size 432x288 with 1 Axes>"
            ]
          },
          "metadata": {
            "tags": []
          }
        }
      ]
    },
    {
      "cell_type": "code",
      "metadata": {
        "colab": {
          "base_uri": "https://localhost:8080/",
          "height": 361
        },
        "id": "03t99N9KL8gH",
        "outputId": "9710527e-25ba-4a78-ecf0-7274574a94e1"
      },
      "source": [
        "Kent_plot2 = sns.lineplot(x = 'date', y = 'deaths', data = Kent_county).set_title('Kent County Deaths')\r\n",
        "\r\n",
        "plt.xticks(rotation=45, ha='right')\r\n",
        "\r\n",
        "plt.show()"
      ],
      "execution_count": 183,
      "outputs": [
        {
          "output_type": "display_data",
          "data": {
            "image/png": "[encoded data removed]",
            "text/plain": [
              "<Figure size 432x288 with 1 Axes>"
            ]
          },
          "metadata": {
            "tags": []
          }
        }
      ]
    },
    {
      "cell_type": "code",
      "metadata": {
        "colab": {
          "base_uri": "https://localhost:8080/",
          "height": 512
        },
        "id": "nJ_hw_f4L305",
        "outputId": "bffc042e-0045-411a-a1dd-16ff6273bc0a"
      },
      "source": [
        "Kent_county['Month_Year'] = Kent_county['date'].dt.strftime('%m-%Y')\r\n",
        "\r\n",
        "Kent_county['Year'] = Kent_county['date'].apply(lambda date: date.year)\r\n",
        "Kent_county['day'] = Kent_county['date'].apply(lambda date: date.day)\r\n",
        "\r\n",
        "Kent_county.head()"
      ],
      "execution_count": 184,
      "outputs": [
        {
          "output_type": "stream",
          "text": [
            "/usr/local/lib/python3.6/dist-packages/ipykernel_launcher.py:1: SettingWithCopyWarning: \n",
            "A value is trying to be set on a copy of a slice from a DataFrame.\n",
            "Try using .loc[row_indexer,col_indexer] = value instead\n",
            "\n",
            "See the caveats in the documentation: https://pandas.pydata.org/pandas-docs/stable/user_guide/indexing.html#returning-a-view-versus-a-copy\n",
            "  \"\"\"Entry point for launching an IPython kernel.\n",
            "/usr/local/lib/python3.6/dist-packages/ipykernel_launcher.py:3: SettingWithCopyWarning: \n",
            "A value is trying to be set on a copy of a slice from a DataFrame.\n",
            "Try using .loc[row_indexer,col_indexer] = value instead\n",
            "\n",
            "See the caveats in the documentation: https://pandas.pydata.org/pandas-docs/stable/user_guide/indexing.html#returning-a-view-versus-a-copy\n",
            "  This is separate from the ipykernel package so we can avoid doing imports until\n",
            "/usr/local/lib/python3.6/dist-packages/ipykernel_launcher.py:4: SettingWithCopyWarning: \n",
            "A value is trying to be set on a copy of a slice from a DataFrame.\n",
            "Try using .loc[row_indexer,col_indexer] = value instead\n",
            "\n",
            "See the caveats in the documentation: https://pandas.pydata.org/pandas-docs/stable/user_guide/indexing.html#returning-a-view-versus-a-copy\n",
            "  after removing the cwd from sys.path.\n"
          ],
          "name": "stderr"
        },
        {
          "output_type": "execute_result",
          "data": {
            "text/html": [
              "<div>\n",
              "<style scoped>\n",
              "    .dataframe tbody tr th:only-of-type {\n",
              "        vertical-align: middle;\n",
              "    }\n",
              "\n",
              "    .dataframe tbody tr th {\n",
              "        vertical-align: top;\n",
              "    }\n",
              "\n",
              "    .dataframe thead th {\n",
              "        text-align: right;\n",
              "    }\n",
              "</style>\n",
              "<table border=\"1\" class=\"dataframe\">\n",
              "  <thead>\n",
              "    <tr style=\"text-align: right;\">\n",
              "      <th></th>\n",
              "      <th>date</th>\n",
              "      <th>county</th>\n",
              "      <th>state</th>\n",
              "      <th>fips</th>\n",
              "      <th>cases</th>\n",
              "      <th>deaths</th>\n",
              "      <th>Month_Year</th>\n",
              "      <th>Year</th>\n",
              "      <th>day</th>\n",
              "    </tr>\n",
              "  </thead>\n",
              "  <tbody>\n",
              "    <tr>\n",
              "      <th>3850</th>\n",
              "      <td>2020-03-18</td>\n",
              "      <td>Kent</td>\n",
              "      <td>Delaware</td>\n",
              "      <td>10001.0</td>\n",
              "      <td>3</td>\n",
              "      <td>0.0</td>\n",
              "      <td>03-2020</td>\n",
              "      <td>2020</td>\n",
              "      <td>18</td>\n",
              "    </tr>\n",
              "    <tr>\n",
              "      <th>4515</th>\n",
              "      <td>2020-03-19</td>\n",
              "      <td>Kent</td>\n",
              "      <td>Delaware</td>\n",
              "      <td>10001.0</td>\n",
              "      <td>4</td>\n",
              "      <td>0.0</td>\n",
              "      <td>03-2020</td>\n",
              "      <td>2020</td>\n",
              "      <td>19</td>\n",
              "    </tr>\n",
              "    <tr>\n",
              "      <th>5294</th>\n",
              "      <td>2020-03-20</td>\n",
              "      <td>Kent</td>\n",
              "      <td>Delaware</td>\n",
              "      <td>10001.0</td>\n",
              "      <td>4</td>\n",
              "      <td>0.0</td>\n",
              "      <td>03-2020</td>\n",
              "      <td>2020</td>\n",
              "      <td>20</td>\n",
              "    </tr>\n",
              "    <tr>\n",
              "      <th>6221</th>\n",
              "      <td>2020-03-21</td>\n",
              "      <td>Kent</td>\n",
              "      <td>Delaware</td>\n",
              "      <td>10001.0</td>\n",
              "      <td>5</td>\n",
              "      <td>0.0</td>\n",
              "      <td>03-2020</td>\n",
              "      <td>2020</td>\n",
              "      <td>21</td>\n",
              "    </tr>\n",
              "    <tr>\n",
              "      <th>7257</th>\n",
              "      <td>2020-03-22</td>\n",
              "      <td>Kent</td>\n",
              "      <td>Delaware</td>\n",
              "      <td>10001.0</td>\n",
              "      <td>5</td>\n",
              "      <td>0.0</td>\n",
              "      <td>03-2020</td>\n",
              "      <td>2020</td>\n",
              "      <td>22</td>\n",
              "    </tr>\n",
              "  </tbody>\n",
              "</table>\n",
              "</div>"
            ],
            "text/plain": [
              "           date county     state     fips  cases  deaths Month_Year  Year  day\n",
              "3850 2020-03-18   Kent  Delaware  10001.0      3     0.0    03-2020  2020   18\n",
              "4515 2020-03-19   Kent  Delaware  10001.0      4     0.0    03-2020  2020   19\n",
              "5294 2020-03-20   Kent  Delaware  10001.0      4     0.0    03-2020  2020   20\n",
              "6221 2020-03-21   Kent  Delaware  10001.0      5     0.0    03-2020  2020   21\n",
              "7257 2020-03-22   Kent  Delaware  10001.0      5     0.0    03-2020  2020   22"
            ]
          },
          "metadata": {
            "tags": []
          },
          "execution_count": 184
        }
      ]
    },
    {
      "cell_type": "markdown",
      "metadata": {
        "id": "lVcefGYsM6Lt"
      },
      "source": [
        "#I'm going to group up the month for Kent county as well."
      ]
    },
    {
      "cell_type": "code",
      "metadata": {
        "colab": {
          "base_uri": "https://localhost:8080/",
          "height": 387
        },
        "id": "hK3IC3m2MdHa",
        "outputId": "880d7754-e661-42bf-aaf0-7799d57a6ee6"
      },
      "source": [
        "Kent_Months = Kent_county.groupby('Month_Year').sum().sort_values('Month_Year').reset_index()\r\n",
        "\r\n",
        "Kent_Months\r\n"
      ],
      "execution_count": 185,
      "outputs": [
        {
          "output_type": "execute_result",
          "data": {
            "text/html": [
              "<div>\n",
              "<style scoped>\n",
              "    .dataframe tbody tr th:only-of-type {\n",
              "        vertical-align: middle;\n",
              "    }\n",
              "\n",
              "    .dataframe tbody tr th {\n",
              "        vertical-align: top;\n",
              "    }\n",
              "\n",
              "    .dataframe thead th {\n",
              "        text-align: right;\n",
              "    }\n",
              "</style>\n",
              "<table border=\"1\" class=\"dataframe\">\n",
              "  <thead>\n",
              "    <tr style=\"text-align: right;\">\n",
              "      <th></th>\n",
              "      <th>Month_Year</th>\n",
              "      <th>fips</th>\n",
              "      <th>cases</th>\n",
              "      <th>deaths</th>\n",
              "      <th>Year</th>\n",
              "      <th>day</th>\n",
              "    </tr>\n",
              "  </thead>\n",
              "  <tbody>\n",
              "    <tr>\n",
              "      <th>0</th>\n",
              "      <td>01-2021</td>\n",
              "      <td>210021.0</td>\n",
              "      <td>222188</td>\n",
              "      <td>3751.0</td>\n",
              "      <td>42441</td>\n",
              "      <td>231</td>\n",
              "    </tr>\n",
              "    <tr>\n",
              "      <th>1</th>\n",
              "      <td>03-2020</td>\n",
              "      <td>140014.0</td>\n",
              "      <td>205</td>\n",
              "      <td>8.0</td>\n",
              "      <td>28280</td>\n",
              "      <td>343</td>\n",
              "    </tr>\n",
              "    <tr>\n",
              "      <th>2</th>\n",
              "      <td>04-2020</td>\n",
              "      <td>300030.0</td>\n",
              "      <td>10855</td>\n",
              "      <td>301.0</td>\n",
              "      <td>60600</td>\n",
              "      <td>465</td>\n",
              "    </tr>\n",
              "    <tr>\n",
              "      <th>3</th>\n",
              "      <td>05-2020</td>\n",
              "      <td>310031.0</td>\n",
              "      <td>35390</td>\n",
              "      <td>1458.0</td>\n",
              "      <td>62620</td>\n",
              "      <td>496</td>\n",
              "    </tr>\n",
              "    <tr>\n",
              "      <th>4</th>\n",
              "      <td>06-2020</td>\n",
              "      <td>300030.0</td>\n",
              "      <td>46966</td>\n",
              "      <td>2419.0</td>\n",
              "      <td>60600</td>\n",
              "      <td>465</td>\n",
              "    </tr>\n",
              "    <tr>\n",
              "      <th>5</th>\n",
              "      <td>07-2020</td>\n",
              "      <td>310031.0</td>\n",
              "      <td>59846</td>\n",
              "      <td>2981.0</td>\n",
              "      <td>62620</td>\n",
              "      <td>496</td>\n",
              "    </tr>\n",
              "    <tr>\n",
              "      <th>6</th>\n",
              "      <td>08-2020</td>\n",
              "      <td>310031.0</td>\n",
              "      <td>75193</td>\n",
              "      <td>3355.0</td>\n",
              "      <td>62620</td>\n",
              "      <td>496</td>\n",
              "    </tr>\n",
              "    <tr>\n",
              "      <th>7</th>\n",
              "      <td>09-2020</td>\n",
              "      <td>300030.0</td>\n",
              "      <td>84241</td>\n",
              "      <td>3386.0</td>\n",
              "      <td>60600</td>\n",
              "      <td>465</td>\n",
              "    </tr>\n",
              "    <tr>\n",
              "      <th>8</th>\n",
              "      <td>10-2020</td>\n",
              "      <td>310031.0</td>\n",
              "      <td>102337</td>\n",
              "      <td>3686.0</td>\n",
              "      <td>62620</td>\n",
              "      <td>496</td>\n",
              "    </tr>\n",
              "    <tr>\n",
              "      <th>9</th>\n",
              "      <td>11-2020</td>\n",
              "      <td>300030.0</td>\n",
              "      <td>124760</td>\n",
              "      <td>3700.0</td>\n",
              "      <td>60600</td>\n",
              "      <td>465</td>\n",
              "    </tr>\n",
              "    <tr>\n",
              "      <th>10</th>\n",
              "      <td>12-2020</td>\n",
              "      <td>310031.0</td>\n",
              "      <td>226770</td>\n",
              "      <td>4557.0</td>\n",
              "      <td>62620</td>\n",
              "      <td>496</td>\n",
              "    </tr>\n",
              "  </tbody>\n",
              "</table>\n",
              "</div>"
            ],
            "text/plain": [
              "   Month_Year      fips   cases  deaths   Year  day\n",
              "0     01-2021  210021.0  222188  3751.0  42441  231\n",
              "1     03-2020  140014.0     205     8.0  28280  343\n",
              "2     04-2020  300030.0   10855   301.0  60600  465\n",
              "3     05-2020  310031.0   35390  1458.0  62620  496\n",
              "4     06-2020  300030.0   46966  2419.0  60600  465\n",
              "5     07-2020  310031.0   59846  2981.0  62620  496\n",
              "6     08-2020  310031.0   75193  3355.0  62620  496\n",
              "7     09-2020  300030.0   84241  3386.0  60600  465\n",
              "8     10-2020  310031.0  102337  3686.0  62620  496\n",
              "9     11-2020  300030.0  124760  3700.0  60600  465\n",
              "10    12-2020  310031.0  226770  4557.0  62620  496"
            ]
          },
          "metadata": {
            "tags": []
          },
          "execution_count": 185
        }
      ]
    },
    {
      "cell_type": "code",
      "metadata": {
        "colab": {
          "base_uri": "https://localhost:8080/",
          "height": 387
        },
        "id": "bZU3AzdBTq-R",
        "outputId": "e34e2bf8-accc-4d35-dbbc-5b3856b7bbaa"
      },
      "source": [
        "Kent_Months['county'] = 'Kent'\r\n",
        "Kent_Months"
      ],
      "execution_count": 186,
      "outputs": [
        {
          "output_type": "execute_result",
          "data": {
            "text/html": [
              "<div>\n",
              "<style scoped>\n",
              "    .dataframe tbody tr th:only-of-type {\n",
              "        vertical-align: middle;\n",
              "    }\n",
              "\n",
              "    .dataframe tbody tr th {\n",
              "        vertical-align: top;\n",
              "    }\n",
              "\n",
              "    .dataframe thead th {\n",
              "        text-align: right;\n",
              "    }\n",
              "</style>\n",
              "<table border=\"1\" class=\"dataframe\">\n",
              "  <thead>\n",
              "    <tr style=\"text-align: right;\">\n",
              "      <th></th>\n",
              "      <th>Month_Year</th>\n",
              "      <th>fips</th>\n",
              "      <th>cases</th>\n",
              "      <th>deaths</th>\n",
              "      <th>Year</th>\n",
              "      <th>day</th>\n",
              "      <th>county</th>\n",
              "    </tr>\n",
              "  </thead>\n",
              "  <tbody>\n",
              "    <tr>\n",
              "      <th>0</th>\n",
              "      <td>01-2021</td>\n",
              "      <td>210021.0</td>\n",
              "      <td>222188</td>\n",
              "      <td>3751.0</td>\n",
              "      <td>42441</td>\n",
              "      <td>231</td>\n",
              "      <td>Kent</td>\n",
              "    </tr>\n",
              "    <tr>\n",
              "      <th>1</th>\n",
              "      <td>03-2020</td>\n",
              "      <td>140014.0</td>\n",
              "      <td>205</td>\n",
              "      <td>8.0</td>\n",
              "      <td>28280</td>\n",
              "      <td>343</td>\n",
              "      <td>Kent</td>\n",
              "    </tr>\n",
              "    <tr>\n",
              "      <th>2</th>\n",
              "      <td>04-2020</td>\n",
              "      <td>300030.0</td>\n",
              "      <td>10855</td>\n",
              "      <td>301.0</td>\n",
              "      <td>60600</td>\n",
              "      <td>465</td>\n",
              "      <td>Kent</td>\n",
              "    </tr>\n",
              "    <tr>\n",
              "      <th>3</th>\n",
              "      <td>05-2020</td>\n",
              "      <td>310031.0</td>\n",
              "      <td>35390</td>\n",
              "      <td>1458.0</td>\n",
              "      <td>62620</td>\n",
              "      <td>496</td>\n",
              "      <td>Kent</td>\n",
              "    </tr>\n",
              "    <tr>\n",
              "      <th>4</th>\n",
              "      <td>06-2020</td>\n",
              "      <td>300030.0</td>\n",
              "      <td>46966</td>\n",
              "      <td>2419.0</td>\n",
              "      <td>60600</td>\n",
              "      <td>465</td>\n",
              "      <td>Kent</td>\n",
              "    </tr>\n",
              "    <tr>\n",
              "      <th>5</th>\n",
              "      <td>07-2020</td>\n",
              "      <td>310031.0</td>\n",
              "      <td>59846</td>\n",
              "      <td>2981.0</td>\n",
              "      <td>62620</td>\n",
              "      <td>496</td>\n",
              "      <td>Kent</td>\n",
              "    </tr>\n",
              "    <tr>\n",
              "      <th>6</th>\n",
              "      <td>08-2020</td>\n",
              "      <td>310031.0</td>\n",
              "      <td>75193</td>\n",
              "      <td>3355.0</td>\n",
              "      <td>62620</td>\n",
              "      <td>496</td>\n",
              "      <td>Kent</td>\n",
              "    </tr>\n",
              "    <tr>\n",
              "      <th>7</th>\n",
              "      <td>09-2020</td>\n",
              "      <td>300030.0</td>\n",
              "      <td>84241</td>\n",
              "      <td>3386.0</td>\n",
              "      <td>60600</td>\n",
              "      <td>465</td>\n",
              "      <td>Kent</td>\n",
              "    </tr>\n",
              "    <tr>\n",
              "      <th>8</th>\n",
              "      <td>10-2020</td>\n",
              "      <td>310031.0</td>\n",
              "      <td>102337</td>\n",
              "      <td>3686.0</td>\n",
              "      <td>62620</td>\n",
              "      <td>496</td>\n",
              "      <td>Kent</td>\n",
              "    </tr>\n",
              "    <tr>\n",
              "      <th>9</th>\n",
              "      <td>11-2020</td>\n",
              "      <td>300030.0</td>\n",
              "      <td>124760</td>\n",
              "      <td>3700.0</td>\n",
              "      <td>60600</td>\n",
              "      <td>465</td>\n",
              "      <td>Kent</td>\n",
              "    </tr>\n",
              "    <tr>\n",
              "      <th>10</th>\n",
              "      <td>12-2020</td>\n",
              "      <td>310031.0</td>\n",
              "      <td>226770</td>\n",
              "      <td>4557.0</td>\n",
              "      <td>62620</td>\n",
              "      <td>496</td>\n",
              "      <td>Kent</td>\n",
              "    </tr>\n",
              "  </tbody>\n",
              "</table>\n",
              "</div>"
            ],
            "text/plain": [
              "   Month_Year      fips   cases  deaths   Year  day county\n",
              "0     01-2021  210021.0  222188  3751.0  42441  231   Kent\n",
              "1     03-2020  140014.0     205     8.0  28280  343   Kent\n",
              "2     04-2020  300030.0   10855   301.0  60600  465   Kent\n",
              "3     05-2020  310031.0   35390  1458.0  62620  496   Kent\n",
              "4     06-2020  300030.0   46966  2419.0  60600  465   Kent\n",
              "5     07-2020  310031.0   59846  2981.0  62620  496   Kent\n",
              "6     08-2020  310031.0   75193  3355.0  62620  496   Kent\n",
              "7     09-2020  300030.0   84241  3386.0  60600  465   Kent\n",
              "8     10-2020  310031.0  102337  3686.0  62620  496   Kent\n",
              "9     11-2020  300030.0  124760  3700.0  60600  465   Kent\n",
              "10    12-2020  310031.0  226770  4557.0  62620  496   Kent"
            ]
          },
          "metadata": {
            "tags": []
          },
          "execution_count": 186
        }
      ]
    },
    {
      "cell_type": "markdown",
      "metadata": {
        "id": "bmHoF2I_NWQT"
      },
      "source": [
        "#Which month had the highest cases and deaths in Kent county?"
      ]
    },
    {
      "cell_type": "code",
      "metadata": {
        "colab": {
          "base_uri": "https://localhost:8080/"
        },
        "id": "3dLgd41dMvlk",
        "outputId": "c806bd1a-eb73-4936-de7f-57e1cc26da8c"
      },
      "source": [
        "Kent_max = Kent_Months.max()\r\n",
        "\r\n",
        "Kent_maxMonth = Kent_max[0]\r\n",
        "Kent_maxCases = Kent_max[2] \r\n",
        "Kent_maxdeaths = Kent_max[3]\r\n",
        "\r\n",
        "\r\n",
        "print(f'{Kent_maxMonth} is the month with the highest cases totaling {Kent_maxCases}')\r\n",
        "print()\r\n",
        "print(f'{Kent_maxMonth} is the month with the highest deaths totaling {Kent_maxdeaths}')"
      ],
      "execution_count": 187,
      "outputs": [
        {
          "output_type": "stream",
          "text": [
            "12-2020 is the month with the highest cases totaling 226770\n",
            "\n",
            "12-2020 is the month with the highest deaths totaling 4557.0\n"
          ],
          "name": "stdout"
        }
      ]
    },
    {
      "cell_type": "code",
      "metadata": {
        "colab": {
          "base_uri": "https://localhost:8080/",
          "height": 342
        },
        "id": "vkyl4x1YOVJr",
        "outputId": "c7a3d0e2-0d57-49f8-d2d4-76809a3a018b"
      },
      "source": [
        "Kent_barplot_cases = sns.barplot(x = 'Month_Year', y = 'cases', data = Kent_Months, palette='dark:salmon_r')\r\n",
        "\r\n",
        "plt.xticks(rotation=45, ha='right')\r\n",
        "\r\n",
        "plt.show()"
      ],
      "execution_count": 188,
      "outputs": [
        {
          "output_type": "display_data",
          "data": {
            "image/png": "[encoded data removed]",
            "text/plain": [
              "<Figure size 432x288 with 1 Axes>"
            ]
          },
          "metadata": {
            "tags": []
          }
        }
      ]
    },
    {
      "cell_type": "code",
      "metadata": {
        "colab": {
          "base_uri": "https://localhost:8080/",
          "height": 342
        },
        "id": "XCTxeIqxOk4Q",
        "outputId": "ad17bffe-12e7-498c-a0ef-2a3df8fb8b48"
      },
      "source": [
        "Kent_barplot_cases = sns.barplot(x = 'Month_Year', y = 'deaths', data = Kent_Months, palette='dark:salmon_r')\r\n",
        "\r\n",
        "plt.xticks(rotation=45, ha='right')\r\n",
        "\r\n",
        "plt.show()"
      ],
      "execution_count": 189,
      "outputs": [
        {
          "output_type": "display_data",
          "data": {
            "image/png": "[encoded data removed]",
            "text/plain": [
              "<Figure size 432x288 with 1 Axes>"
            ]
          },
          "metadata": {
            "tags": []
          }
        }
      ]
    },
    {
      "cell_type": "code",
      "metadata": {
        "colab": {
          "base_uri": "https://localhost:8080/"
        },
        "id": "teXlyxW3OCCM",
        "outputId": "86052757-b4c4-4751-8e6f-2343948a75b8"
      },
      "source": [
        "# Creating a variable to hold the list from the growth() to pass through fixed_growth()\r\n",
        "temp_list3 = growth(Kent_Months['cases'])\r\n",
        "\r\n",
        "fixed_growth(temp_list3, Kent_Months,'Cases_Growth_Percentage')\r\n",
        "\r\n"
      ],
      "execution_count": 190,
      "outputs": [
        {
          "output_type": "execute_result",
          "data": {
            "text/plain": [
              "0       -2.02\n",
              "1      -99.91\n",
              "2     5195.12\n",
              "3      226.02\n",
              "4       32.71\n",
              "5       27.42\n",
              "6       25.64\n",
              "7       12.03\n",
              "8       21.48\n",
              "9       21.91\n",
              "10      81.76\n",
              "Name: Cases_Growth_Percentage, dtype: float64"
            ]
          },
          "metadata": {
            "tags": []
          },
          "execution_count": 190
        }
      ]
    },
    {
      "cell_type": "code",
      "metadata": {
        "colab": {
          "base_uri": "https://localhost:8080/",
          "height": 473
        },
        "id": "v8T86DXaPjmZ",
        "outputId": "955f38cd-e295-4430-f8b6-004d4b3cb9af"
      },
      "source": [
        "Kent_Months['Cases_Growth_Percentage'].iloc[1] = np.nan\r\n",
        "Kent_Months"
      ],
      "execution_count": 191,
      "outputs": [
        {
          "output_type": "stream",
          "text": [
            "/usr/local/lib/python3.6/dist-packages/pandas/core/indexing.py:670: SettingWithCopyWarning: \n",
            "A value is trying to be set on a copy of a slice from a DataFrame\n",
            "\n",
            "See the caveats in the documentation: https://pandas.pydata.org/pandas-docs/stable/user_guide/indexing.html#returning-a-view-versus-a-copy\n",
            "  iloc._setitem_with_indexer(indexer, value)\n"
          ],
          "name": "stderr"
        },
        {
          "output_type": "execute_result",
          "data": {
            "text/html": [
              "<div>\n",
              "<style scoped>\n",
              "    .dataframe tbody tr th:only-of-type {\n",
              "        vertical-align: middle;\n",
              "    }\n",
              "\n",
              "    .dataframe tbody tr th {\n",
              "        vertical-align: top;\n",
              "    }\n",
              "\n",
              "    .dataframe thead th {\n",
              "        text-align: right;\n",
              "    }\n",
              "</style>\n",
              "<table border=\"1\" class=\"dataframe\">\n",
              "  <thead>\n",
              "    <tr style=\"text-align: right;\">\n",
              "      <th></th>\n",
              "      <th>Month_Year</th>\n",
              "      <th>fips</th>\n",
              "      <th>cases</th>\n",
              "      <th>deaths</th>\n",
              "      <th>Year</th>\n",
              "      <th>day</th>\n",
              "      <th>county</th>\n",
              "      <th>Cases_Growth_Percentage</th>\n",
              "    </tr>\n",
              "  </thead>\n",
              "  <tbody>\n",
              "    <tr>\n",
              "      <th>0</th>\n",
              "      <td>01-2021</td>\n",
              "      <td>210021.0</td>\n",
              "      <td>222188</td>\n",
              "      <td>3751.0</td>\n",
              "      <td>42441</td>\n",
              "      <td>231</td>\n",
              "      <td>Kent</td>\n",
              "      <td>-2.02</td>\n",
              "    </tr>\n",
              "    <tr>\n",
              "      <th>1</th>\n",
              "      <td>03-2020</td>\n",
              "      <td>140014.0</td>\n",
              "      <td>205</td>\n",
              "      <td>8.0</td>\n",
              "      <td>28280</td>\n",
              "      <td>343</td>\n",
              "      <td>Kent</td>\n",
              "      <td>NaN</td>\n",
              "    </tr>\n",
              "    <tr>\n",
              "      <th>2</th>\n",
              "      <td>04-2020</td>\n",
              "      <td>300030.0</td>\n",
              "      <td>10855</td>\n",
              "      <td>301.0</td>\n",
              "      <td>60600</td>\n",
              "      <td>465</td>\n",
              "      <td>Kent</td>\n",
              "      <td>5195.12</td>\n",
              "    </tr>\n",
              "    <tr>\n",
              "      <th>3</th>\n",
              "      <td>05-2020</td>\n",
              "      <td>310031.0</td>\n",
              "      <td>35390</td>\n",
              "      <td>1458.0</td>\n",
              "      <td>62620</td>\n",
              "      <td>496</td>\n",
              "      <td>Kent</td>\n",
              "      <td>226.02</td>\n",
              "    </tr>\n",
              "    <tr>\n",
              "      <th>4</th>\n",
              "      <td>06-2020</td>\n",
              "      <td>300030.0</td>\n",
              "      <td>46966</td>\n",
              "      <td>2419.0</td>\n",
              "      <td>60600</td>\n",
              "      <td>465</td>\n",
              "      <td>Kent</td>\n",
              "      <td>32.71</td>\n",
              "    </tr>\n",
              "    <tr>\n",
              "      <th>5</th>\n",
              "      <td>07-2020</td>\n",
              "      <td>310031.0</td>\n",
              "      <td>59846</td>\n",
              "      <td>2981.0</td>\n",
              "      <td>62620</td>\n",
              "      <td>496</td>\n",
              "      <td>Kent</td>\n",
              "      <td>27.42</td>\n",
              "    </tr>\n",
              "    <tr>\n",
              "      <th>6</th>\n",
              "      <td>08-2020</td>\n",
              "      <td>310031.0</td>\n",
              "      <td>75193</td>\n",
              "      <td>3355.0</td>\n",
              "      <td>62620</td>\n",
              "      <td>496</td>\n",
              "      <td>Kent</td>\n",
              "      <td>25.64</td>\n",
              "    </tr>\n",
              "    <tr>\n",
              "      <th>7</th>\n",
              "      <td>09-2020</td>\n",
              "      <td>300030.0</td>\n",
              "      <td>84241</td>\n",
              "      <td>3386.0</td>\n",
              "      <td>60600</td>\n",
              "      <td>465</td>\n",
              "      <td>Kent</td>\n",
              "      <td>12.03</td>\n",
              "    </tr>\n",
              "    <tr>\n",
              "      <th>8</th>\n",
              "      <td>10-2020</td>\n",
              "      <td>310031.0</td>\n",
              "      <td>102337</td>\n",
              "      <td>3686.0</td>\n",
              "      <td>62620</td>\n",
              "      <td>496</td>\n",
              "      <td>Kent</td>\n",
              "      <td>21.48</td>\n",
              "    </tr>\n",
              "    <tr>\n",
              "      <th>9</th>\n",
              "      <td>11-2020</td>\n",
              "      <td>300030.0</td>\n",
              "      <td>124760</td>\n",
              "      <td>3700.0</td>\n",
              "      <td>60600</td>\n",
              "      <td>465</td>\n",
              "      <td>Kent</td>\n",
              "      <td>21.91</td>\n",
              "    </tr>\n",
              "    <tr>\n",
              "      <th>10</th>\n",
              "      <td>12-2020</td>\n",
              "      <td>310031.0</td>\n",
              "      <td>226770</td>\n",
              "      <td>4557.0</td>\n",
              "      <td>62620</td>\n",
              "      <td>496</td>\n",
              "      <td>Kent</td>\n",
              "      <td>81.76</td>\n",
              "    </tr>\n",
              "  </tbody>\n",
              "</table>\n",
              "</div>"
            ],
            "text/plain": [
              "   Month_Year      fips   cases  ...  day  county  Cases_Growth_Percentage\n",
              "0     01-2021  210021.0  222188  ...  231    Kent                    -2.02\n",
              "1     03-2020  140014.0     205  ...  343    Kent                      NaN\n",
              "2     04-2020  300030.0   10855  ...  465    Kent                  5195.12\n",
              "3     05-2020  310031.0   35390  ...  496    Kent                   226.02\n",
              "4     06-2020  300030.0   46966  ...  465    Kent                    32.71\n",
              "5     07-2020  310031.0   59846  ...  496    Kent                    27.42\n",
              "6     08-2020  310031.0   75193  ...  496    Kent                    25.64\n",
              "7     09-2020  300030.0   84241  ...  465    Kent                    12.03\n",
              "8     10-2020  310031.0  102337  ...  496    Kent                    21.48\n",
              "9     11-2020  300030.0  124760  ...  465    Kent                    21.91\n",
              "10    12-2020  310031.0  226770  ...  496    Kent                    81.76\n",
              "\n",
              "[11 rows x 8 columns]"
            ]
          },
          "metadata": {
            "tags": []
          },
          "execution_count": 191
        }
      ]
    },
    {
      "cell_type": "code",
      "metadata": {
        "colab": {
          "base_uri": "https://localhost:8080/"
        },
        "id": "ygpFctZmP4iq",
        "outputId": "0bebfedd-e84f-41e1-9f61-b85a20e6dd22"
      },
      "source": [
        "temp_list4 = growth(Kent_Months['deaths'])\r\n",
        "\r\n",
        "fixed_growth(temp_list4, Kent_Months,'Death_Growth_Percentage')\r\n",
        "\r\n"
      ],
      "execution_count": 192,
      "outputs": [
        {
          "output_type": "execute_result",
          "data": {
            "text/plain": [
              "0      -17.69\n",
              "1      -99.79\n",
              "2     3662.50\n",
              "3      384.39\n",
              "4       65.91\n",
              "5       23.23\n",
              "6       12.55\n",
              "7        0.92\n",
              "8        8.86\n",
              "9        0.38\n",
              "10      23.16\n",
              "Name: Death_Growth_Percentage, dtype: float64"
            ]
          },
          "metadata": {
            "tags": []
          },
          "execution_count": 192
        }
      ]
    },
    {
      "cell_type": "code",
      "metadata": {
        "colab": {
          "base_uri": "https://localhost:8080/",
          "height": 473
        },
        "id": "p0hSBBJdQAPq",
        "outputId": "72a01dda-9b9d-4767-d916-2ea6ee2bc683"
      },
      "source": [
        "Kent_Months['Death_Growth_Percentage'].iloc[1] = np.nan\r\n",
        "Kent_Months"
      ],
      "execution_count": 193,
      "outputs": [
        {
          "output_type": "stream",
          "text": [
            "/usr/local/lib/python3.6/dist-packages/pandas/core/indexing.py:670: SettingWithCopyWarning: \n",
            "A value is trying to be set on a copy of a slice from a DataFrame\n",
            "\n",
            "See the caveats in the documentation: https://pandas.pydata.org/pandas-docs/stable/user_guide/indexing.html#returning-a-view-versus-a-copy\n",
            "  iloc._setitem_with_indexer(indexer, value)\n"
          ],
          "name": "stderr"
        },
        {
          "output_type": "execute_result",
          "data": {
            "text/html": [
              "<div>\n",
              "<style scoped>\n",
              "    .dataframe tbody tr th:only-of-type {\n",
              "        vertical-align: middle;\n",
              "    }\n",
              "\n",
              "    .dataframe tbody tr th {\n",
              "        vertical-align: top;\n",
              "    }\n",
              "\n",
              "    .dataframe thead th {\n",
              "        text-align: right;\n",
              "    }\n",
              "</style>\n",
              "<table border=\"1\" class=\"dataframe\">\n",
              "  <thead>\n",
              "    <tr style=\"text-align: right;\">\n",
              "      <th></th>\n",
              "      <th>Month_Year</th>\n",
              "      <th>fips</th>\n",
              "      <th>cases</th>\n",
              "      <th>deaths</th>\n",
              "      <th>Year</th>\n",
              "      <th>day</th>\n",
              "      <th>county</th>\n",
              "      <th>Cases_Growth_Percentage</th>\n",
              "      <th>Death_Growth_Percentage</th>\n",
              "    </tr>\n",
              "  </thead>\n",
              "  <tbody>\n",
              "    <tr>\n",
              "      <th>0</th>\n",
              "      <td>01-2021</td>\n",
              "      <td>210021.0</td>\n",
              "      <td>222188</td>\n",
              "      <td>3751.0</td>\n",
              "      <td>42441</td>\n",
              "      <td>231</td>\n",
              "      <td>Kent</td>\n",
              "      <td>-2.02</td>\n",
              "      <td>-17.69</td>\n",
              "    </tr>\n",
              "    <tr>\n",
              "      <th>1</th>\n",
              "      <td>03-2020</td>\n",
              "      <td>140014.0</td>\n",
              "      <td>205</td>\n",
              "      <td>8.0</td>\n",
              "      <td>28280</td>\n",
              "      <td>343</td>\n",
              "      <td>Kent</td>\n",
              "      <td>NaN</td>\n",
              "      <td>NaN</td>\n",
              "    </tr>\n",
              "    <tr>\n",
              "      <th>2</th>\n",
              "      <td>04-2020</td>\n",
              "      <td>300030.0</td>\n",
              "      <td>10855</td>\n",
              "      <td>301.0</td>\n",
              "      <td>60600</td>\n",
              "      <td>465</td>\n",
              "      <td>Kent</td>\n",
              "      <td>5195.12</td>\n",
              "      <td>3662.50</td>\n",
              "    </tr>\n",
              "    <tr>\n",
              "      <th>3</th>\n",
              "      <td>05-2020</td>\n",
              "      <td>310031.0</td>\n",
              "      <td>35390</td>\n",
              "      <td>1458.0</td>\n",
              "      <td>62620</td>\n",
              "      <td>496</td>\n",
              "      <td>Kent</td>\n",
              "      <td>226.02</td>\n",
              "      <td>384.39</td>\n",
              "    </tr>\n",
              "    <tr>\n",
              "      <th>4</th>\n",
              "      <td>06-2020</td>\n",
              "      <td>300030.0</td>\n",
              "      <td>46966</td>\n",
              "      <td>2419.0</td>\n",
              "      <td>60600</td>\n",
              "      <td>465</td>\n",
              "      <td>Kent</td>\n",
              "      <td>32.71</td>\n",
              "      <td>65.91</td>\n",
              "    </tr>\n",
              "    <tr>\n",
              "      <th>5</th>\n",
              "      <td>07-2020</td>\n",
              "      <td>310031.0</td>\n",
              "      <td>59846</td>\n",
              "      <td>2981.0</td>\n",
              "      <td>62620</td>\n",
              "      <td>496</td>\n",
              "      <td>Kent</td>\n",
              "      <td>27.42</td>\n",
              "      <td>23.23</td>\n",
              "    </tr>\n",
              "    <tr>\n",
              "      <th>6</th>\n",
              "      <td>08-2020</td>\n",
              "      <td>310031.0</td>\n",
              "      <td>75193</td>\n",
              "      <td>3355.0</td>\n",
              "      <td>62620</td>\n",
              "      <td>496</td>\n",
              "      <td>Kent</td>\n",
              "      <td>25.64</td>\n",
              "      <td>12.55</td>\n",
              "    </tr>\n",
              "    <tr>\n",
              "      <th>7</th>\n",
              "      <td>09-2020</td>\n",
              "      <td>300030.0</td>\n",
              "      <td>84241</td>\n",
              "      <td>3386.0</td>\n",
              "      <td>60600</td>\n",
              "      <td>465</td>\n",
              "      <td>Kent</td>\n",
              "      <td>12.03</td>\n",
              "      <td>0.92</td>\n",
              "    </tr>\n",
              "    <tr>\n",
              "      <th>8</th>\n",
              "      <td>10-2020</td>\n",
              "      <td>310031.0</td>\n",
              "      <td>102337</td>\n",
              "      <td>3686.0</td>\n",
              "      <td>62620</td>\n",
              "      <td>496</td>\n",
              "      <td>Kent</td>\n",
              "      <td>21.48</td>\n",
              "      <td>8.86</td>\n",
              "    </tr>\n",
              "    <tr>\n",
              "      <th>9</th>\n",
              "      <td>11-2020</td>\n",
              "      <td>300030.0</td>\n",
              "      <td>124760</td>\n",
              "      <td>3700.0</td>\n",
              "      <td>60600</td>\n",
              "      <td>465</td>\n",
              "      <td>Kent</td>\n",
              "      <td>21.91</td>\n",
              "      <td>0.38</td>\n",
              "    </tr>\n",
              "    <tr>\n",
              "      <th>10</th>\n",
              "      <td>12-2020</td>\n",
              "      <td>310031.0</td>\n",
              "      <td>226770</td>\n",
              "      <td>4557.0</td>\n",
              "      <td>62620</td>\n",
              "      <td>496</td>\n",
              "      <td>Kent</td>\n",
              "      <td>81.76</td>\n",
              "      <td>23.16</td>\n",
              "    </tr>\n",
              "  </tbody>\n",
              "</table>\n",
              "</div>"
            ],
            "text/plain": [
              "   Month_Year      fips  ...  Cases_Growth_Percentage  Death_Growth_Percentage\n",
              "0     01-2021  210021.0  ...                    -2.02                   -17.69\n",
              "1     03-2020  140014.0  ...                      NaN                      NaN\n",
              "2     04-2020  300030.0  ...                  5195.12                  3662.50\n",
              "3     05-2020  310031.0  ...                   226.02                   384.39\n",
              "4     06-2020  300030.0  ...                    32.71                    65.91\n",
              "5     07-2020  310031.0  ...                    27.42                    23.23\n",
              "6     08-2020  310031.0  ...                    25.64                    12.55\n",
              "7     09-2020  300030.0  ...                    12.03                     0.92\n",
              "8     10-2020  310031.0  ...                    21.48                     8.86\n",
              "9     11-2020  300030.0  ...                    21.91                     0.38\n",
              "10    12-2020  310031.0  ...                    81.76                    23.16\n",
              "\n",
              "[11 rows x 9 columns]"
            ]
          },
          "metadata": {
            "tags": []
          },
          "execution_count": 193
        }
      ]
    },
    {
      "cell_type": "code",
      "metadata": {
        "colab": {
          "base_uri": "https://localhost:8080/",
          "height": 362
        },
        "id": "GLAfAUDtQNPN",
        "outputId": "50d32551-0521-4c62-a37e-b32d07927a9f"
      },
      "source": [
        "sns.lineplot(x = 'Month_Year', y = 'Cases_Growth_Percentage', data = Kent_Months).set_title('Kent Cases Growth Percentage')\r\n",
        "\r\n",
        "plt.xticks(rotation=45, ha='right')\r\n",
        "\r\n",
        "plt.show()"
      ],
      "execution_count": 194,
      "outputs": [
        {
          "output_type": "display_data",
          "data": {
            "image/png": "[encoded data removed]",
            "text/plain": [
              "<Figure size 432x288 with 1 Axes>"
            ]
          },
          "metadata": {
            "tags": []
          }
        }
      ]
    },
    {
      "cell_type": "code",
      "metadata": {
        "colab": {
          "base_uri": "https://localhost:8080/",
          "height": 362
        },
        "id": "TELcX-bpQwxD",
        "outputId": "2d6c4011-ec17-4c8e-c296-79f82691a41b"
      },
      "source": [
        "sns.lineplot(x = 'Month_Year', y = 'Death_Growth_Percentage', data = Kent_Months).set_title('Kent Death Growth Percentage')\r\n",
        "\r\n",
        "plt.xticks(rotation=45, ha='right')\r\n",
        "\r\n",
        "plt.show()"
      ],
      "execution_count": 195,
      "outputs": [
        {
          "output_type": "display_data",
          "data": {
            "image/png": "[encoded data removed]",
            "text/plain": [
              "<Figure size 432x288 with 1 Axes>"
            ]
          },
          "metadata": {
            "tags": []
          }
        }
      ]
    },
    {
      "cell_type": "code",
      "metadata": {
        "colab": {
          "base_uri": "https://localhost:8080/",
          "height": 726
        },
        "id": "4Phn-2vxQz-0",
        "outputId": "33816ff4-1e1c-4636-9af5-3f1c6719e213"
      },
      "source": [
        "# I am using the pandas merge function which allows me to specify how I would like to merge my 2 dataframes\r\n",
        "Sussex_Kent = pd.merge(Sussex_Months, Kent_Months, how=\"outer\")\r\n",
        "\r\n",
        "Sussex_Kent.head(30)"
      ],
      "execution_count": 196,
      "outputs": [
        {
          "output_type": "execute_result",
          "data": {
            "text/html": [
              "<div>\n",
              "<style scoped>\n",
              "    .dataframe tbody tr th:only-of-type {\n",
              "        vertical-align: middle;\n",
              "    }\n",
              "\n",
              "    .dataframe tbody tr th {\n",
              "        vertical-align: top;\n",
              "    }\n",
              "\n",
              "    .dataframe thead th {\n",
              "        text-align: right;\n",
              "    }\n",
              "</style>\n",
              "<table border=\"1\" class=\"dataframe\">\n",
              "  <thead>\n",
              "    <tr style=\"text-align: right;\">\n",
              "      <th></th>\n",
              "      <th>Month_Year</th>\n",
              "      <th>fips</th>\n",
              "      <th>cases</th>\n",
              "      <th>deaths</th>\n",
              "      <th>Year</th>\n",
              "      <th>day</th>\n",
              "      <th>county</th>\n",
              "      <th>Cases_Growth_Percentage</th>\n",
              "      <th>Death_Growth_Percentage</th>\n",
              "    </tr>\n",
              "  </thead>\n",
              "  <tbody>\n",
              "    <tr>\n",
              "      <th>0</th>\n",
              "      <td>01-2021</td>\n",
              "      <td>210105.0</td>\n",
              "      <td>363208</td>\n",
              "      <td>6544.0</td>\n",
              "      <td>42441</td>\n",
              "      <td>231</td>\n",
              "      <td>Sussex</td>\n",
              "      <td>-8.12</td>\n",
              "      <td>-24.05</td>\n",
              "    </tr>\n",
              "    <tr>\n",
              "      <th>1</th>\n",
              "      <td>03-2020</td>\n",
              "      <td>150075.0</td>\n",
              "      <td>468</td>\n",
              "      <td>8.0</td>\n",
              "      <td>30300</td>\n",
              "      <td>360</td>\n",
              "      <td>Sussex</td>\n",
              "      <td>NaN</td>\n",
              "      <td>NaN</td>\n",
              "    </tr>\n",
              "    <tr>\n",
              "      <th>2</th>\n",
              "      <td>04-2020</td>\n",
              "      <td>300150.0</td>\n",
              "      <td>25836</td>\n",
              "      <td>668.0</td>\n",
              "      <td>60600</td>\n",
              "      <td>465</td>\n",
              "      <td>Sussex</td>\n",
              "      <td>5420.51</td>\n",
              "      <td>8250.00</td>\n",
              "    </tr>\n",
              "    <tr>\n",
              "      <th>3</th>\n",
              "      <td>05-2020</td>\n",
              "      <td>310155.0</td>\n",
              "      <td>107939</td>\n",
              "      <td>3206.0</td>\n",
              "      <td>62620</td>\n",
              "      <td>496</td>\n",
              "      <td>Sussex</td>\n",
              "      <td>317.79</td>\n",
              "      <td>379.94</td>\n",
              "    </tr>\n",
              "    <tr>\n",
              "      <th>4</th>\n",
              "      <td>06-2020</td>\n",
              "      <td>300150.0</td>\n",
              "      <td>133075</td>\n",
              "      <td>4648.0</td>\n",
              "      <td>60600</td>\n",
              "      <td>465</td>\n",
              "      <td>Sussex</td>\n",
              "      <td>23.29</td>\n",
              "      <td>44.98</td>\n",
              "    </tr>\n",
              "    <tr>\n",
              "      <th>5</th>\n",
              "      <td>07-2020</td>\n",
              "      <td>310155.0</td>\n",
              "      <td>161438</td>\n",
              "      <td>5586.0</td>\n",
              "      <td>62620</td>\n",
              "      <td>496</td>\n",
              "      <td>Sussex</td>\n",
              "      <td>21.31</td>\n",
              "      <td>20.18</td>\n",
              "    </tr>\n",
              "    <tr>\n",
              "      <th>6</th>\n",
              "      <td>08-2020</td>\n",
              "      <td>310155.0</td>\n",
              "      <td>187432</td>\n",
              "      <td>5981.0</td>\n",
              "      <td>62620</td>\n",
              "      <td>496</td>\n",
              "      <td>Sussex</td>\n",
              "      <td>16.10</td>\n",
              "      <td>7.07</td>\n",
              "    </tr>\n",
              "    <tr>\n",
              "      <th>7</th>\n",
              "      <td>09-2020</td>\n",
              "      <td>300150.0</td>\n",
              "      <td>196627</td>\n",
              "      <td>5997.0</td>\n",
              "      <td>60600</td>\n",
              "      <td>465</td>\n",
              "      <td>Sussex</td>\n",
              "      <td>4.91</td>\n",
              "      <td>0.27</td>\n",
              "    </tr>\n",
              "    <tr>\n",
              "      <th>8</th>\n",
              "      <td>10-2020</td>\n",
              "      <td>310155.0</td>\n",
              "      <td>230583</td>\n",
              "      <td>6691.0</td>\n",
              "      <td>62620</td>\n",
              "      <td>496</td>\n",
              "      <td>Sussex</td>\n",
              "      <td>17.27</td>\n",
              "      <td>11.57</td>\n",
              "    </tr>\n",
              "    <tr>\n",
              "      <th>9</th>\n",
              "      <td>11-2020</td>\n",
              "      <td>300150.0</td>\n",
              "      <td>274761</td>\n",
              "      <td>7452.0</td>\n",
              "      <td>60600</td>\n",
              "      <td>465</td>\n",
              "      <td>Sussex</td>\n",
              "      <td>19.16</td>\n",
              "      <td>11.37</td>\n",
              "    </tr>\n",
              "    <tr>\n",
              "      <th>10</th>\n",
              "      <td>12-2020</td>\n",
              "      <td>310155.0</td>\n",
              "      <td>395289</td>\n",
              "      <td>8616.0</td>\n",
              "      <td>62620</td>\n",
              "      <td>496</td>\n",
              "      <td>Sussex</td>\n",
              "      <td>43.87</td>\n",
              "      <td>15.62</td>\n",
              "    </tr>\n",
              "    <tr>\n",
              "      <th>11</th>\n",
              "      <td>01-2021</td>\n",
              "      <td>210021.0</td>\n",
              "      <td>222188</td>\n",
              "      <td>3751.0</td>\n",
              "      <td>42441</td>\n",
              "      <td>231</td>\n",
              "      <td>Kent</td>\n",
              "      <td>-2.02</td>\n",
              "      <td>-17.69</td>\n",
              "    </tr>\n",
              "    <tr>\n",
              "      <th>12</th>\n",
              "      <td>03-2020</td>\n",
              "      <td>140014.0</td>\n",
              "      <td>205</td>\n",
              "      <td>8.0</td>\n",
              "      <td>28280</td>\n",
              "      <td>343</td>\n",
              "      <td>Kent</td>\n",
              "      <td>NaN</td>\n",
              "      <td>NaN</td>\n",
              "    </tr>\n",
              "    <tr>\n",
              "      <th>13</th>\n",
              "      <td>04-2020</td>\n",
              "      <td>300030.0</td>\n",
              "      <td>10855</td>\n",
              "      <td>301.0</td>\n",
              "      <td>60600</td>\n",
              "      <td>465</td>\n",
              "      <td>Kent</td>\n",
              "      <td>5195.12</td>\n",
              "      <td>3662.50</td>\n",
              "    </tr>\n",
              "    <tr>\n",
              "      <th>14</th>\n",
              "      <td>05-2020</td>\n",
              "      <td>310031.0</td>\n",
              "      <td>35390</td>\n",
              "      <td>1458.0</td>\n",
              "      <td>62620</td>\n",
              "      <td>496</td>\n",
              "      <td>Kent</td>\n",
              "      <td>226.02</td>\n",
              "      <td>384.39</td>\n",
              "    </tr>\n",
              "    <tr>\n",
              "      <th>15</th>\n",
              "      <td>06-2020</td>\n",
              "      <td>300030.0</td>\n",
              "      <td>46966</td>\n",
              "      <td>2419.0</td>\n",
              "      <td>60600</td>\n",
              "      <td>465</td>\n",
              "      <td>Kent</td>\n",
              "      <td>32.71</td>\n",
              "      <td>65.91</td>\n",
              "    </tr>\n",
              "    <tr>\n",
              "      <th>16</th>\n",
              "      <td>07-2020</td>\n",
              "      <td>310031.0</td>\n",
              "      <td>59846</td>\n",
              "      <td>2981.0</td>\n",
              "      <td>62620</td>\n",
              "      <td>496</td>\n",
              "      <td>Kent</td>\n",
              "      <td>27.42</td>\n",
              "      <td>23.23</td>\n",
              "    </tr>\n",
              "    <tr>\n",
              "      <th>17</th>\n",
              "      <td>08-2020</td>\n",
              "      <td>310031.0</td>\n",
              "      <td>75193</td>\n",
              "      <td>3355.0</td>\n",
              "      <td>62620</td>\n",
              "      <td>496</td>\n",
              "      <td>Kent</td>\n",
              "      <td>25.64</td>\n",
              "      <td>12.55</td>\n",
              "    </tr>\n",
              "    <tr>\n",
              "      <th>18</th>\n",
              "      <td>09-2020</td>\n",
              "      <td>300030.0</td>\n",
              "      <td>84241</td>\n",
              "      <td>3386.0</td>\n",
              "      <td>60600</td>\n",
              "      <td>465</td>\n",
              "      <td>Kent</td>\n",
              "      <td>12.03</td>\n",
              "      <td>0.92</td>\n",
              "    </tr>\n",
              "    <tr>\n",
              "      <th>19</th>\n",
              "      <td>10-2020</td>\n",
              "      <td>310031.0</td>\n",
              "      <td>102337</td>\n",
              "      <td>3686.0</td>\n",
              "      <td>62620</td>\n",
              "      <td>496</td>\n",
              "      <td>Kent</td>\n",
              "      <td>21.48</td>\n",
              "      <td>8.86</td>\n",
              "    </tr>\n",
              "    <tr>\n",
              "      <th>20</th>\n",
              "      <td>11-2020</td>\n",
              "      <td>300030.0</td>\n",
              "      <td>124760</td>\n",
              "      <td>3700.0</td>\n",
              "      <td>60600</td>\n",
              "      <td>465</td>\n",
              "      <td>Kent</td>\n",
              "      <td>21.91</td>\n",
              "      <td>0.38</td>\n",
              "    </tr>\n",
              "    <tr>\n",
              "      <th>21</th>\n",
              "      <td>12-2020</td>\n",
              "      <td>310031.0</td>\n",
              "      <td>226770</td>\n",
              "      <td>4557.0</td>\n",
              "      <td>62620</td>\n",
              "      <td>496</td>\n",
              "      <td>Kent</td>\n",
              "      <td>81.76</td>\n",
              "      <td>23.16</td>\n",
              "    </tr>\n",
              "  </tbody>\n",
              "</table>\n",
              "</div>"
            ],
            "text/plain": [
              "   Month_Year      fips  ...  Cases_Growth_Percentage  Death_Growth_Percentage\n",
              "0     01-2021  210105.0  ...                    -8.12                   -24.05\n",
              "1     03-2020  150075.0  ...                      NaN                      NaN\n",
              "2     04-2020  300150.0  ...                  5420.51                  8250.00\n",
              "3     05-2020  310155.0  ...                   317.79                   379.94\n",
              "4     06-2020  300150.0  ...                    23.29                    44.98\n",
              "5     07-2020  310155.0  ...                    21.31                    20.18\n",
              "6     08-2020  310155.0  ...                    16.10                     7.07\n",
              "7     09-2020  300150.0  ...                     4.91                     0.27\n",
              "8     10-2020  310155.0  ...                    17.27                    11.57\n",
              "9     11-2020  300150.0  ...                    19.16                    11.37\n",
              "10    12-2020  310155.0  ...                    43.87                    15.62\n",
              "11    01-2021  210021.0  ...                    -2.02                   -17.69\n",
              "12    03-2020  140014.0  ...                      NaN                      NaN\n",
              "13    04-2020  300030.0  ...                  5195.12                  3662.50\n",
              "14    05-2020  310031.0  ...                   226.02                   384.39\n",
              "15    06-2020  300030.0  ...                    32.71                    65.91\n",
              "16    07-2020  310031.0  ...                    27.42                    23.23\n",
              "17    08-2020  310031.0  ...                    25.64                    12.55\n",
              "18    09-2020  300030.0  ...                    12.03                     0.92\n",
              "19    10-2020  310031.0  ...                    21.48                     8.86\n",
              "20    11-2020  300030.0  ...                    21.91                     0.38\n",
              "21    12-2020  310031.0  ...                    81.76                    23.16\n",
              "\n",
              "[22 rows x 9 columns]"
            ]
          },
          "metadata": {
            "tags": []
          },
          "execution_count": 196
        }
      ]
    },
    {
      "cell_type": "markdown",
      "metadata": {
        "id": "e0mi_HNfIxzE"
      },
      "source": [
        "#Sussex and Kent comparison "
      ]
    },
    {
      "cell_type": "code",
      "metadata": {
        "colab": {
          "base_uri": "https://localhost:8080/",
          "height": 362
        },
        "id": "dE9XLrPGSOjF",
        "outputId": "ea8fb3d8-a47c-47fb-bcf4-8b28e908a933"
      },
      "source": [
        "sns.lineplot(data=Sussex_Kent, x = 'Month_Year',linewidth=2.5, y = 'cases',hue='county').set_title('Sussex & Kent COVID Cases')\r\n",
        "\r\n",
        "plt.xticks(rotation=45, ha='right')\r\n",
        "\r\n",
        "plt.show()"
      ],
      "execution_count": 197,
      "outputs": [
        {
          "output_type": "display_data",
          "data": {
            "image/png": "[encoded data removed]",
            "text/plain": [
              "<Figure size 432x288 with 1 Axes>"
            ]
          },
          "metadata": {
            "tags": []
          }
        }
      ]
    },
    {
      "cell_type": "code",
      "metadata": {
        "colab": {
          "base_uri": "https://localhost:8080/",
          "height": 362
        },
        "id": "szUZf2nbZsQd",
        "outputId": "454f7852-3183-43da-88dc-c47372c5ce64"
      },
      "source": [
        "\r\n",
        "sns.lineplot(data=Sussex_Kent, x = 'Month_Year', linewidth = 2.5, y = 'deaths',hue = 'county').set_title('Sussex & Kent COVID Deaths')\r\n",
        "\r\n",
        "plt.xticks(rotation = 45, ha = 'right')\r\n",
        "\r\n",
        "plt.show()\r\n"
      ],
      "execution_count": 198,
      "outputs": [
        {
          "output_type": "display_data",
          "data": {
            "image/png": "[encoded data removed]",
            "text/plain": [
              "<Figure size 432x288 with 1 Axes>"
            ]
          },
          "metadata": {
            "tags": []
          }
        }
      ]
    },
    {
      "cell_type": "markdown",
      "metadata": {
        "id": "1En1d73BJxqL"
      },
      "source": [
        "###It looks like both Sussex and Kent county are following a similar trend when it comes to cases and death. However, Kent seems to have a lower level of both cases and deaths. Let's take a look at both counties deaths given the amount of cases."
      ]
    },
    {
      "cell_type": "code",
      "metadata": {
        "colab": {
          "base_uri": "https://localhost:8080/",
          "height": 335
        },
        "id": "dcu_u6TbeYdJ",
        "outputId": "e10e6f24-0750-41c8-d9cd-e747a3684357"
      },
      "source": [
        "sns.lineplot(x = 'cases', y = 'deaths', data = Sussex_Kent, hue = 'county',palette='viridis').set_title('COVID Deaths Given Cases')\r\n"
      ],
      "execution_count": 199,
      "outputs": [
        {
          "output_type": "execute_result",
          "data": {
            "text/plain": [
              "Text(0.5, 1.0, 'COVID Deaths Given Cases')"
            ]
          },
          "metadata": {
            "tags": []
          },
          "execution_count": 199
        },
        {
          "output_type": "display_data",
          "data": {
            "image/png": "[encoded data removed]",
            "text/plain": [
              "<Figure size 432x288 with 1 Axes>"
            ]
          },
          "metadata": {
            "tags": []
          }
        }
      ]
    },
    {
      "cell_type": "code",
      "metadata": {
        "colab": {
          "base_uri": "https://localhost:8080/",
          "height": 490
        },
        "id": "ZDUfGwV4cfbc",
        "outputId": "06f706e0-4925-435c-9bc7-909e4ad9975b"
      },
      "source": [
        "sns.relplot(x=\"Month_Year\", y=\"cases\", hue=\"county\", size=\"deaths\",\r\n",
        "            sizes=(40, 400), alpha=.5, palette=\"muted\",\r\n",
        "            height=6, data=Sussex_Kent)\r\n",
        "\r\n",
        "plt.xticks(rotation = 45, ha = 'right')\r\n",
        "\r\n",
        "plt.show()"
      ],
      "execution_count": 200,
      "outputs": [
        {
          "output_type": "display_data",
          "data": {
            "image/png": "[encoded data removed]",
            "text/plain": [
              "<Figure size 554.275x432 with 1 Axes>"
            ]
          },
          "metadata": {
            "tags": []
          }
        }
      ]
    },
    {
      "cell_type": "code",
      "metadata": {
        "colab": {
          "base_uri": "https://localhost:8080/",
          "height": 382
        },
        "id": "tdShCdUSdgQg",
        "outputId": "98e7efa8-a894-47fb-f61b-fcd2e68e213f"
      },
      "source": [
        "sns.pairplot(Sussex_Kent[['Month_Year', 'cases', 'deaths', 'county']], hue=\"county\")"
      ],
      "execution_count": 201,
      "outputs": [
        {
          "output_type": "execute_result",
          "data": {
            "text/plain": [
              "<seaborn.axisgrid.PairGrid at 0x7f8471ca3470>"
            ]
          },
          "metadata": {
            "tags": []
          },
          "execution_count": 201
        },
        {
          "output_type": "display_data",
          "data": {
            "image/png": "[encoded data removed]",
            "text/plain": [
              "<Figure size 477.275x360 with 6 Axes>"
            ]
          },
          "metadata": {
            "tags": []
          }
        }
      ]
    },
    {
      "cell_type": "markdown",
      "metadata": {
        "id": "nr_mFwtZMPBC"
      },
      "source": [
        "#It’s interesting to see that both county’s data look similar when I plot them. Kent seems to be going at a slower rate compared to Sussex. "
      ]
    }
  ]
}