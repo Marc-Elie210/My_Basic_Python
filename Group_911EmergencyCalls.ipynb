{
  "nbformat": 4,
  "nbformat_minor": 0,
  "metadata": {
    "colab": {
      "name": "Group_911EmergencyCalls.ipynb",
      "provenance": [],
      "collapsed_sections": [],
      "include_colab_link": true
    },
    "kernelspec": {
      "name": "python3",
      "display_name": "Python 3"
    }
  },
  "cells": [
    {
      "cell_type": "markdown",
      "metadata": {
        "id": "view-in-github",
        "colab_type": "text"
      },
      "source": [
        "<a href=\"https://colab.research.google.com/github/Marc-Elie210/My_Basic_Python/blob/master/Group_911EmergencyCalls.ipynb\" target=\"_parent\"><img src=\"https://colab.research.google.com/assets/colab-badge.svg\" alt=\"Open In Colab\"/></a>"
      ]
    },
    {
      "cell_type": "markdown",
      "metadata": {
        "id": "P5dUtcQvvbBo"
      },
      "source": [
        "#Case Study\r\n",
        "\r\n",
        "Congrats! You have been contracted to conduct a brief analysis of a dataset containing ememrgency calls in order to determine the allocation of funds to you local authorities.  This analysis will play a role in deciding changes to the emergency response department.\r\n",
        "\r\n",
        "The data is based in 911 emergency calls and your job is to determine a variety of issues regarding said calls.\r\n",
        "\r\n",
        "1. Using Pandas and Numpy, analyse the data and come up with 5 questions that you would like to answer about the data.\r\n",
        "\r\n",
        "2. the instructor will provide a rnage of questions to answer and you should use your knowledge to complte them as a team."
      ]
    },
    {
      "cell_type": "markdown",
      "metadata": {
        "id": "qe9iAqunfD5Q"
      },
      "source": [
        "We are importing the libraries \r\n",
        "- Pandas & Numpy for data manipulation and calculations \r\n",
        "- Matplot and seaborn for visualization "
      ]
    },
    {
      "cell_type": "code",
      "metadata": {
        "id": "BT33SycLEvZk"
      },
      "source": [
        "import pandas as pd\n",
        "import numpy as np\n",
        "import seaborn as sns\n",
        "import matplotlib.pyplot as plt\n",
        "sns.set() #sets axes of graphs in the the background color"
      ],
      "execution_count": 34,
      "outputs": []
    },
    {
      "cell_type": "markdown",
      "metadata": {
        "id": "Hr8VCHDQf5cU"
      },
      "source": [
        "Mounting our drive"
      ]
    },
    {
      "cell_type": "code",
      "metadata": {
        "colab": {
          "base_uri": "https://localhost:8080/"
        },
        "id": "VFxxHsodEWFU",
        "outputId": "9a851d20-d87d-454a-c116-cd60c7612ee3"
      },
      "source": [
        "from google.colab import drive\n",
        "drive.mount('/content/drive')"
      ],
      "execution_count": 35,
      "outputs": [
        {
          "output_type": "stream",
          "text": [
            "Drive already mounted at /content/drive; to attempt to forcibly remount, call drive.mount(\"/content/drive\", force_remount=True).\n"
          ],
          "name": "stdout"
        }
      ]
    },
    {
      "cell_type": "markdown",
      "metadata": {
        "id": "Zo1nsHe2f9jP"
      },
      "source": [
        "Importing and reading our data using pandas"
      ]
    },
    {
      "cell_type": "code",
      "metadata": {
        "id": "W9grgLjZ_7Wv"
      },
      "source": [
        "df = pd.read_csv('/content/drive/MyDrive/Colab Notebooks/Projects/911 Calls Project/DATA/911.csv')"
      ],
      "execution_count": 36,
      "outputs": []
    },
    {
      "cell_type": "markdown",
      "metadata": {
        "id": "nDmR2tr9gXH-"
      },
      "source": [
        "Examining our data using .head() and .info() to see what is in our dataset.\r\n",
        "This allows us to begin to formulate questions.\r\n"
      ]
    },
    {
      "cell_type": "code",
      "metadata": {
        "colab": {
          "base_uri": "https://localhost:8080/",
          "height": 203
        },
        "id": "6I5O0NxxHZxP",
        "outputId": "9344c972-e791-4923-dae8-f9187965818f"
      },
      "source": [
        "df.head()"
      ],
      "execution_count": 37,
      "outputs": [
        {
          "output_type": "execute_result",
          "data": {
            "text/html": [
              "<div>\n",
              "<style scoped>\n",
              "    .dataframe tbody tr th:only-of-type {\n",
              "        vertical-align: middle;\n",
              "    }\n",
              "\n",
              "    .dataframe tbody tr th {\n",
              "        vertical-align: top;\n",
              "    }\n",
              "\n",
              "    .dataframe thead th {\n",
              "        text-align: right;\n",
              "    }\n",
              "</style>\n",
              "<table border=\"1\" class=\"dataframe\">\n",
              "  <thead>\n",
              "    <tr style=\"text-align: right;\">\n",
              "      <th></th>\n",
              "      <th>lat</th>\n",
              "      <th>lng</th>\n",
              "      <th>desc</th>\n",
              "      <th>zip</th>\n",
              "      <th>title</th>\n",
              "      <th>timeStamp</th>\n",
              "      <th>twp</th>\n",
              "      <th>addr</th>\n",
              "      <th>e</th>\n",
              "    </tr>\n",
              "  </thead>\n",
              "  <tbody>\n",
              "    <tr>\n",
              "      <th>0</th>\n",
              "      <td>40.297876</td>\n",
              "      <td>-75.581294</td>\n",
              "      <td>REINDEER CT &amp; DEAD END;  NEW HANOVER; Station ...</td>\n",
              "      <td>19525.0</td>\n",
              "      <td>EMS: BACK PAINS/INJURY</td>\n",
              "      <td>2015-12-10 17:40:00</td>\n",
              "      <td>NEW HANOVER</td>\n",
              "      <td>REINDEER CT &amp; DEAD END</td>\n",
              "      <td>1</td>\n",
              "    </tr>\n",
              "    <tr>\n",
              "      <th>1</th>\n",
              "      <td>40.258061</td>\n",
              "      <td>-75.264680</td>\n",
              "      <td>BRIAR PATH &amp; WHITEMARSH LN;  HATFIELD TOWNSHIP...</td>\n",
              "      <td>19446.0</td>\n",
              "      <td>EMS: DIABETIC EMERGENCY</td>\n",
              "      <td>2015-12-10 17:40:00</td>\n",
              "      <td>HATFIELD TOWNSHIP</td>\n",
              "      <td>BRIAR PATH &amp; WHITEMARSH LN</td>\n",
              "      <td>1</td>\n",
              "    </tr>\n",
              "    <tr>\n",
              "      <th>2</th>\n",
              "      <td>40.121182</td>\n",
              "      <td>-75.351975</td>\n",
              "      <td>HAWS AVE; NORRISTOWN; 2015-12-10 @ 14:39:21-St...</td>\n",
              "      <td>19401.0</td>\n",
              "      <td>Fire: GAS-ODOR/LEAK</td>\n",
              "      <td>2015-12-10 17:40:00</td>\n",
              "      <td>NORRISTOWN</td>\n",
              "      <td>HAWS AVE</td>\n",
              "      <td>1</td>\n",
              "    </tr>\n",
              "    <tr>\n",
              "      <th>3</th>\n",
              "      <td>40.116153</td>\n",
              "      <td>-75.343513</td>\n",
              "      <td>AIRY ST &amp; SWEDE ST;  NORRISTOWN; Station 308A;...</td>\n",
              "      <td>19401.0</td>\n",
              "      <td>EMS: CARDIAC EMERGENCY</td>\n",
              "      <td>2015-12-10 17:40:01</td>\n",
              "      <td>NORRISTOWN</td>\n",
              "      <td>AIRY ST &amp; SWEDE ST</td>\n",
              "      <td>1</td>\n",
              "    </tr>\n",
              "    <tr>\n",
              "      <th>4</th>\n",
              "      <td>40.251492</td>\n",
              "      <td>-75.603350</td>\n",
              "      <td>CHERRYWOOD CT &amp; DEAD END;  LOWER POTTSGROVE; S...</td>\n",
              "      <td>NaN</td>\n",
              "      <td>EMS: DIZZINESS</td>\n",
              "      <td>2015-12-10 17:40:01</td>\n",
              "      <td>LOWER POTTSGROVE</td>\n",
              "      <td>CHERRYWOOD CT &amp; DEAD END</td>\n",
              "      <td>1</td>\n",
              "    </tr>\n",
              "  </tbody>\n",
              "</table>\n",
              "</div>"
            ],
            "text/plain": [
              "         lat        lng  ...                        addr  e\n",
              "0  40.297876 -75.581294  ...      REINDEER CT & DEAD END  1\n",
              "1  40.258061 -75.264680  ...  BRIAR PATH & WHITEMARSH LN  1\n",
              "2  40.121182 -75.351975  ...                    HAWS AVE  1\n",
              "3  40.116153 -75.343513  ...          AIRY ST & SWEDE ST  1\n",
              "4  40.251492 -75.603350  ...    CHERRYWOOD CT & DEAD END  1\n",
              "\n",
              "[5 rows x 9 columns]"
            ]
          },
          "metadata": {
            "tags": []
          },
          "execution_count": 37
        }
      ]
    },
    {
      "cell_type": "code",
      "metadata": {
        "id": "UJylOJQzFNtI",
        "colab": {
          "base_uri": "https://localhost:8080/"
        },
        "outputId": "1fec6196-842d-44fc-b857-0c4199e6b8c1"
      },
      "source": [
        "df.info()"
      ],
      "execution_count": 38,
      "outputs": [
        {
          "output_type": "stream",
          "text": [
            "<class 'pandas.core.frame.DataFrame'>\n",
            "RangeIndex: 99492 entries, 0 to 99491\n",
            "Data columns (total 9 columns):\n",
            " #   Column     Non-Null Count  Dtype  \n",
            "---  ------     --------------  -----  \n",
            " 0   lat        99492 non-null  float64\n",
            " 1   lng        99492 non-null  float64\n",
            " 2   desc       99492 non-null  object \n",
            " 3   zip        86637 non-null  float64\n",
            " 4   title      99492 non-null  object \n",
            " 5   timeStamp  99492 non-null  object \n",
            " 6   twp        99449 non-null  object \n",
            " 7   addr       98973 non-null  object \n",
            " 8   e          99492 non-null  int64  \n",
            "dtypes: float64(3), int64(1), object(5)\n",
            "memory usage: 6.8+ MB\n"
          ],
          "name": "stdout"
        }
      ]
    },
    {
      "cell_type": "markdown",
      "metadata": {
        "id": "RK-hebdFhCoi"
      },
      "source": [
        ""
      ]
    },
    {
      "cell_type": "code",
      "metadata": {
        "id": "kgxwmXM5hAgK"
      },
      "source": [
        "missing_values =['n/a','na','--','-']\r\n",
        "df1 = pd.read_csv('/content/drive/MyDrive/Colab Notebooks/Projects/911 Calls Project/DATA/911.csv', na_values = missing_values)"
      ],
      "execution_count": 39,
      "outputs": []
    },
    {
      "cell_type": "markdown",
      "metadata": {
        "id": "F4ADjwQOH9nv"
      },
      "source": [
        "QUESTIONS \n",
        "\n",
        "# 1. What zip code had the most 911 calls?\n",
        "# 2. Whats the most common call reason?\n",
        "# 3. Which town had the least amount of 911 calls?\n",
        "# 3b. What were the top 4 towns with the most amount of calls?\n",
        "# 4. What was the most recent 911 call?\n",
        "# 5. Whats the average (mean) 911 calls per year?"
      ]
    },
    {
      "cell_type": "markdown",
      "metadata": {
        "id": "sR3YCCcXhp3C"
      },
      "source": [
        "1.What zip code had the most 911 calls?"
      ]
    },
    {
      "cell_type": "code",
      "metadata": {
        "id": "mmPR-RIbIE42",
        "colab": {
          "base_uri": "https://localhost:8080/"
        },
        "outputId": "fc2747db-c0a2-4414-b93b-20b88dd85cdc"
      },
      "source": [
        "df['zip'].value_counts().head(10)\n",
        "print('The top 10 zip codes with the most 911 calls were: \\n', df['zip'].value_counts().head(10))"
      ],
      "execution_count": 40,
      "outputs": [
        {
          "output_type": "stream",
          "text": [
            "The top 10 zip codes with the most 911 calls were: \n",
            " 19401.0    6979\n",
            "19464.0    6643\n",
            "19403.0    4854\n",
            "19446.0    4748\n",
            "19406.0    3174\n",
            "19002.0    3050\n",
            "19468.0    2990\n",
            "19454.0    2781\n",
            "19090.0    2635\n",
            "19038.0    2578\n",
            "Name: zip, dtype: int64\n"
          ],
          "name": "stdout"
        }
      ]
    },
    {
      "cell_type": "code",
      "metadata": {
        "colab": {
          "base_uri": "https://localhost:8080/",
          "height": 319
        },
        "id": "sCVCpSovIcKf",
        "outputId": "a8b54f1b-8bce-4669-fd08-73c672804328"
      },
      "source": [
        "sns.countplot(x = 'zip', data = df.head(11), palette='viridis')\n",
        "plt.legend(bbox_to_anchor=(1.05, 1), loc=2, borderaxespad=0.)\n",
        "#our histogram doesn't reflect the proper zip codes which had the most 911 calls.\n",
        "#This reflects the first few zip codes in the dataset and the count of them."
      ],
      "execution_count": 41,
      "outputs": [
        {
          "output_type": "stream",
          "text": [
            "No handles with labels found to put in legend.\n"
          ],
          "name": "stderr"
        },
        {
          "output_type": "execute_result",
          "data": {
            "text/plain": [
              "<matplotlib.legend.Legend at 0x7f0fef5e44e0>"
            ]
          },
          "metadata": {
            "tags": []
          },
          "execution_count": 41
        },
        {
          "output_type": "display_data",
          "data": {
            "image/png": "[encoded data removed]",
            "text/plain": [
              "<Figure size 432x288 with 1 Axes>"
            ]
          },
          "metadata": {
            "tags": []
          }
        }
      ]
    },
    {
      "cell_type": "markdown",
      "metadata": {
        "id": "36OiN0jiiAiT"
      },
      "source": [
        "2.Whats the most common call reason?"
      ]
    },
    {
      "cell_type": "code",
      "metadata": {
        "id": "xx3ObjS4I3dT",
        "colab": {
          "base_uri": "https://localhost:8080/"
        },
        "outputId": "35620e51-776a-4be7-9d1d-1ef24eebc951"
      },
      "source": [
        "df['title'].value_counts().head(1)\n",
        "print('The most common call reason was:\\n',df['title'].value_counts().head(1))"
      ],
      "execution_count": 42,
      "outputs": [
        {
          "output_type": "stream",
          "text": [
            "The most common call reason was:\n",
            " Traffic: VEHICLE ACCIDENT -    23066\n",
            "Name: title, dtype: int64\n"
          ],
          "name": "stdout"
        }
      ]
    },
    {
      "cell_type": "markdown",
      "metadata": {
        "id": "l_P0Jn0riKrs"
      },
      "source": [
        "3.Which town had the least amount of 911 calls?\r\n"
      ]
    },
    {
      "cell_type": "code",
      "metadata": {
        "id": "QKJCFbzSJKPy",
        "colab": {
          "base_uri": "https://localhost:8080/"
        },
        "outputId": "ce3a5f86-1dae-4636-d639-07414082d104"
      },
      "source": [
        "df['twp'].value_counts().tail(1)\n",
        "print('The town with the least amount of 911 calls was:\\n',df['twp'].value_counts().tail(1))"
      ],
      "execution_count": 43,
      "outputs": [
        {
          "output_type": "stream",
          "text": [
            "The town with the least amount of 911 calls was:\n",
            " LEHIGH COUNTY    30\n",
            "Name: twp, dtype: int64\n"
          ],
          "name": "stdout"
        }
      ]
    },
    {
      "cell_type": "markdown",
      "metadata": {
        "id": "aeMPAw0viOqr"
      },
      "source": [
        "3b.What were the top 4 towns with the most amount of calls?\r\n"
      ]
    },
    {
      "cell_type": "code",
      "metadata": {
        "colab": {
          "base_uri": "https://localhost:8080/"
        },
        "id": "aOuS1QLgirgB",
        "outputId": "a3416030-0348-4b05-80bb-44b79477673a"
      },
      "source": [
        "listValues = pd.value_counts(df['twp']).iloc[:4]\r\n",
        "print('The top four towns with the most amount of calls were:\\n', pd.value_counts(df['twp']).iloc[:4])"
      ],
      "execution_count": 44,
      "outputs": [
        {
          "output_type": "stream",
          "text": [
            "The top four towns with the most amount of calls were:\n",
            " LOWER MERION    8443\n",
            "ABINGTON        5977\n",
            "NORRISTOWN      5890\n",
            "UPPER MERION    5227\n",
            "Name: twp, dtype: int64\n"
          ],
          "name": "stdout"
        }
      ]
    },
    {
      "cell_type": "markdown",
      "metadata": {
        "id": "qMviyKM1iSNX"
      },
      "source": [
        "Plot based on towns and how many calls were reported on each town\r\n"
      ]
    },
    {
      "cell_type": "code",
      "metadata": {
        "colab": {
          "base_uri": "https://localhost:8080/",
          "height": 319
        },
        "id": "j7mR88T_LoGj",
        "outputId": "c1f0c416-bcb3-4c5d-958c-9d4f485f0223"
      },
      "source": [
        "print('How Many Calls Were Reported In Each Town \\n', sns.countplot(x='twp', data=df,palette='ch:s=.25,rot=-.25', order=df.twp.value_counts().iloc[:4].index))"
      ],
      "execution_count": 45,
      "outputs": [
        {
          "output_type": "stream",
          "text": [
            "How Many Calls Were Reported In Each Town \n",
            " AxesSubplot(0.125,0.125;0.775x0.755)\n"
          ],
          "name": "stdout"
        },
        {
          "output_type": "display_data",
          "data": {
            "image/png": "[encoded data removed]",
            "text/plain": [
              "<Figure size 432x288 with 1 Axes>"
            ]
          },
          "metadata": {
            "tags": []
          }
        }
      ]
    },
    {
      "cell_type": "markdown",
      "metadata": {
        "id": "FjQi5UhoiXFF"
      },
      "source": [
        "4.What was the most recent 911 call?\r\n"
      ]
    },
    {
      "cell_type": "code",
      "metadata": {
        "id": "RxhvO3unFgwR",
        "colab": {
          "base_uri": "https://localhost:8080/"
        },
        "outputId": "dd9e6583-5ccc-4363-c39f-79561329f4c3"
      },
      "source": [
        "df['timeStamp'].max()\n",
        "print('Our data shows that the most recent call was on '+ str(df['timeStamp'].max()))"
      ],
      "execution_count": 46,
      "outputs": [
        {
          "output_type": "stream",
          "text": [
            "Our data shows that the most recent call was on 2016-08-24 11:17:02\n"
          ],
          "name": "stdout"
        }
      ]
    },
    {
      "cell_type": "markdown",
      "metadata": {
        "id": "1fj4Gy3EiaB-"
      },
      "source": [
        "5.How many 911 calls per year?\r\n"
      ]
    },
    {
      "cell_type": "code",
      "metadata": {
        "id": "zE7kgHt4JcPJ",
        "colab": {
          "base_uri": "https://localhost:8080/"
        },
        "outputId": "4871407f-8647-4bab-8ffe-494886b13706"
      },
      "source": [
        "df['timeStamp'] = pd.to_datetime(df['timeStamp'], format='%Y-%m-%d %H:%M:%S')\n",
        "time = df['timeStamp'].iloc[0]\n",
        "df['Year'] = df['timeStamp'].apply(lambda x: x.year)\n",
        "\n",
        "print('The number of 911 calls per year:\\n', df.groupby('Year').count()['twp'])\n"
      ],
      "execution_count": 47,
      "outputs": [
        {
          "output_type": "stream",
          "text": [
            "The number of 911 calls per year:\n",
            " Year\n",
            "2015     7963\n",
            "2016    91486\n",
            "Name: twp, dtype: int64\n"
          ],
          "name": "stdout"
        }
      ]
    },
    {
      "cell_type": "markdown",
      "metadata": {
        "id": "Kstz2BQglXAz"
      },
      "source": [
        "This function asks the user to type the name of a town to get the amount of calls generated from that particular area."
      ]
    },
    {
      "cell_type": "code",
      "metadata": {
        "colab": {
          "base_uri": "https://localhost:8080/"
        },
        "id": "Mtd-fzG-idj3",
        "outputId": "6c3ebbf2-6429-4331-bd07-8e16ef5ab2d0"
      },
      "source": [
        "userInput = input(\"Please type a towns name: \")\r\n",
        "print(f\"The amount of calls in town {userInput.upper()} are {df[df.twp == userInput.upper()].shape[0]}\")"
      ],
      "execution_count": 48,
      "outputs": [
        {
          "output_type": "stream",
          "text": [
            "Please type a towns name: Abington\n",
            "The amount of calls in town ABINGTON are 5977\n"
          ],
          "name": "stdout"
        }
      ]
    },
    {
      "cell_type": "code",
      "metadata": {
        "id": "MK0Wxuw_lTDH"
      },
      "source": [
        ""
      ],
      "execution_count": null,
      "outputs": []
    }
  ]
}